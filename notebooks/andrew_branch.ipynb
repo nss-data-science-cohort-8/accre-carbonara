{
 "cells": [
  {
   "cell_type": "code",
   "execution_count": 1,
   "metadata": {},
   "outputs": [],
   "source": [
    "import pandas as pd\n",
    "from datetime import datetime as dt\n",
    "import re\n",
    "import numpy as np"
   ]
  },
  {
   "cell_type": "code",
   "execution_count": 2,
   "metadata": {},
   "outputs": [
    {
     "data": {
      "text/html": [
       "<div>\n",
       "<style scoped>\n",
       "    .dataframe tbody tr th:only-of-type {\n",
       "        vertical-align: middle;\n",
       "    }\n",
       "\n",
       "    .dataframe tbody tr th {\n",
       "        vertical-align: top;\n",
       "    }\n",
       "\n",
       "    .dataframe thead th {\n",
       "        text-align: right;\n",
       "    }\n",
       "</style>\n",
       "<table border=\"1\" class=\"dataframe\">\n",
       "  <thead>\n",
       "    <tr style=\"text-align: right;\">\n",
       "      <th></th>\n",
       "      <th>JOBID</th>\n",
       "      <th>STATE</th>\n",
       "      <th>BEGIN</th>\n",
       "      <th>END</th>\n",
       "      <th>REQMEM</th>\n",
       "      <th>USEDMEM</th>\n",
       "      <th>REQTIME</th>\n",
       "      <th>USEDTIME</th>\n",
       "      <th>NODES</th>\n",
       "      <th>CPUS</th>\n",
       "      <th>PARTITION</th>\n",
       "      <th>EXITCODE</th>\n",
       "    </tr>\n",
       "  </thead>\n",
       "  <tbody>\n",
       "    <tr>\n",
       "      <th>0</th>\n",
       "      <td>30616928</td>\n",
       "      <td>RUNNING</td>\n",
       "      <td>2021-07-31T22:15:00</td>\n",
       "      <td>Unknown</td>\n",
       "      <td>2048Mn</td>\n",
       "      <td>0</td>\n",
       "      <td>10:04:00</td>\n",
       "      <td>67-22:14:22</td>\n",
       "      <td>1</td>\n",
       "      <td>1</td>\n",
       "      <td>production</td>\n",
       "      <td>0:0</td>\n",
       "    </tr>\n",
       "    <tr>\n",
       "      <th>1</th>\n",
       "      <td>30853133</td>\n",
       "      <td>COMPLETED</td>\n",
       "      <td>2021-08-06T11:36:09</td>\n",
       "      <td>2021-09-05T11:36:32</td>\n",
       "      <td>262144Mn</td>\n",
       "      <td>20604.62M</td>\n",
       "      <td>30-00:00:00</td>\n",
       "      <td>30-00:00:23</td>\n",
       "      <td>1</td>\n",
       "      <td>1</td>\n",
       "      <td>cgw-platypus</td>\n",
       "      <td>0:0</td>\n",
       "    </tr>\n",
       "    <tr>\n",
       "      <th>2</th>\n",
       "      <td>30858137</td>\n",
       "      <td>COMPLETED</td>\n",
       "      <td>2021-08-06T19:04:39</td>\n",
       "      <td>2021-09-05T19:04:53</td>\n",
       "      <td>204800Mn</td>\n",
       "      <td>57553.77M</td>\n",
       "      <td>30-00:00:00</td>\n",
       "      <td>30-00:00:14</td>\n",
       "      <td>1</td>\n",
       "      <td>32</td>\n",
       "      <td>cgw-tbi01</td>\n",
       "      <td>0:0</td>\n",
       "    </tr>\n",
       "  </tbody>\n",
       "</table>\n",
       "</div>"
      ],
      "text/plain": [
       "      JOBID      STATE                BEGIN                  END    REQMEM  \\\n",
       "0  30616928    RUNNING  2021-07-31T22:15:00              Unknown    2048Mn   \n",
       "1  30853133  COMPLETED  2021-08-06T11:36:09  2021-09-05T11:36:32  262144Mn   \n",
       "2  30858137  COMPLETED  2021-08-06T19:04:39  2021-09-05T19:04:53  204800Mn   \n",
       "\n",
       "     USEDMEM      REQTIME     USEDTIME  NODES  CPUS     PARTITION EXITCODE  \n",
       "0          0     10:04:00  67-22:14:22      1     1    production      0:0  \n",
       "1  20604.62M  30-00:00:00  30-00:00:23      1     1  cgw-platypus      0:0  \n",
       "2  57553.77M  30-00:00:00  30-00:00:14      1    32     cgw-tbi01      0:0  "
      ]
     },
     "metadata": {},
     "output_type": "display_data"
    },
    {
     "name": "stdout",
     "output_type": "stream",
     "text": [
      "(10000, 12)\n"
     ]
    }
   ],
   "source": [
    "jobs = pd.read_csv(\"../data/fullsample.csv\", nrows = 10000)\n",
    "display(jobs.head(3))\n",
    "print(jobs.shape)"
   ]
  },
  {
   "cell_type": "code",
   "execution_count": 3,
   "metadata": {},
   "outputs": [
    {
     "name": "stdout",
     "output_type": "stream",
     "text": [
      "<class 'pandas.core.frame.DataFrame'>\n",
      "RangeIndex: 10000 entries, 0 to 9999\n",
      "Data columns (total 12 columns):\n",
      " #   Column     Non-Null Count  Dtype \n",
      "---  ------     --------------  ----- \n",
      " 0   JOBID      10000 non-null  object\n",
      " 1   STATE      10000 non-null  object\n",
      " 2   BEGIN      10000 non-null  object\n",
      " 3   END        10000 non-null  object\n",
      " 4   REQMEM     10000 non-null  object\n",
      " 5   USEDMEM    10000 non-null  object\n",
      " 6   REQTIME    10000 non-null  object\n",
      " 7   USEDTIME   10000 non-null  object\n",
      " 8   NODES      10000 non-null  int64 \n",
      " 9   CPUS       10000 non-null  int64 \n",
      " 10  PARTITION  10000 non-null  object\n",
      " 11  EXITCODE   10000 non-null  object\n",
      "dtypes: int64(2), object(10)\n",
      "memory usage: 937.6+ KB\n"
     ]
    }
   ],
   "source": [
    "jobs.info()"
   ]
  },
  {
   "cell_type": "code",
   "execution_count": 4,
   "metadata": {},
   "outputs": [
    {
     "data": {
      "text/plain": [
       "7259    2021-09-01T00:00:01\n",
       "7551    2021-09-01T00:00:01\n",
       "7280    2021-09-01T00:00:01\n",
       "7579    2021-09-01T00:00:02\n",
       "7276    2021-09-01T00:00:02\n",
       "               ...         \n",
       "7676                Unknown\n",
       "8621                Unknown\n",
       "7343                Unknown\n",
       "9122                Unknown\n",
       "0                   Unknown\n",
       "Name: END, Length: 10000, dtype: object"
      ]
     },
     "execution_count": 4,
     "metadata": {},
     "output_type": "execute_result"
    }
   ],
   "source": [
    "jobs['END'].sort_values()"
   ]
  },
  {
   "cell_type": "code",
   "execution_count": null,
   "metadata": {},
   "outputs": [],
   "source": [
    "ce5 = pd.read_csv('../data/slurm_wrapper_ce5.log',\n",
    "                  header=None,\n",
    "                  delimiter=' - ',\n",
    "                  engine='python',\n",
    "                  # nrows=100000\n",
    "                  )"
   ]
  },
  {
   "cell_type": "code",
   "execution_count": null,
   "metadata": {},
   "outputs": [
    {
     "data": {
      "text/html": [
       "<div>\n",
       "<style scoped>\n",
       "    .dataframe tbody tr th:only-of-type {\n",
       "        vertical-align: middle;\n",
       "    }\n",
       "\n",
       "    .dataframe tbody tr th {\n",
       "        vertical-align: top;\n",
       "    }\n",
       "\n",
       "    .dataframe thead th {\n",
       "        text-align: right;\n",
       "    }\n",
       "</style>\n",
       "<table border=\"1\" class=\"dataframe\">\n",
       "  <thead>\n",
       "    <tr style=\"text-align: right;\">\n",
       "      <th></th>\n",
       "      <th>END</th>\n",
       "      <th>USER</th>\n",
       "      <th>RETRY</th>\n",
       "      <th>TIME</th>\n",
       "      <th>RETURNCODE</th>\n",
       "      <th>COMMAND</th>\n",
       "    </tr>\n",
       "  </thead>\n",
       "  <tbody>\n",
       "    <tr>\n",
       "      <th>0</th>\n",
       "      <td>2020-10-16 08:15:39.278699</td>\n",
       "      <td>0</td>\n",
       "      <td>0</td>\n",
       "      <td>0.073476</td>\n",
       "      <td>0.0</td>\n",
       "      <td>['/usr/bin/sacct', '-u', 'appelte1', '-S', '2...</td>\n",
       "    </tr>\n",
       "    <tr>\n",
       "      <th>1</th>\n",
       "      <td>2020-10-16 08:18:08.313309</td>\n",
       "      <td>0</td>\n",
       "      <td>0</td>\n",
       "      <td>0.183632</td>\n",
       "      <td>0.0</td>\n",
       "      <td>['/usr/bin/sacct', '-u', 'appelte1', '-S', '2...</td>\n",
       "    </tr>\n",
       "    <tr>\n",
       "      <th>2</th>\n",
       "      <td>2020-10-16 08:22:48.128689</td>\n",
       "      <td>0</td>\n",
       "      <td>0</td>\n",
       "      <td>0.075471</td>\n",
       "      <td>0.0</td>\n",
       "      <td>['/usr/bin/sacct', '-u', 'appelte1', '-S', '2...</td>\n",
       "    </tr>\n",
       "    <tr>\n",
       "      <th>3</th>\n",
       "      <td>2020-10-16 08:25:13.257408</td>\n",
       "      <td>0</td>\n",
       "      <td>0</td>\n",
       "      <td>0.094844</td>\n",
       "      <td>0.0</td>\n",
       "      <td>['/usr/bin/sacct', '-u', 'appelte1', '-S', '2...</td>\n",
       "    </tr>\n",
       "    <tr>\n",
       "      <th>4</th>\n",
       "      <td>2020-10-16 08:31:01.460723</td>\n",
       "      <td>0</td>\n",
       "      <td>0</td>\n",
       "      <td>0.074988</td>\n",
       "      <td>0.0</td>\n",
       "      <td>['/usr/bin/sacct', '-u', 'appelte1', '-S', '2...</td>\n",
       "    </tr>\n",
       "  </tbody>\n",
       "</table>\n",
       "</div>"
      ],
      "text/plain": [
       "                         END  USER  RETRY      TIME  RETURNCODE  \\\n",
       "0 2020-10-16 08:15:39.278699     0      0  0.073476         0.0   \n",
       "1 2020-10-16 08:18:08.313309     0      0  0.183632         0.0   \n",
       "2 2020-10-16 08:22:48.128689     0      0  0.075471         0.0   \n",
       "3 2020-10-16 08:25:13.257408     0      0  0.094844         0.0   \n",
       "4 2020-10-16 08:31:01.460723     0      0  0.074988         0.0   \n",
       "\n",
       "                                             COMMAND  \n",
       "0   ['/usr/bin/sacct', '-u', 'appelte1', '-S', '2...  \n",
       "1   ['/usr/bin/sacct', '-u', 'appelte1', '-S', '2...  \n",
       "2   ['/usr/bin/sacct', '-u', 'appelte1', '-S', '2...  \n",
       "3   ['/usr/bin/sacct', '-u', 'appelte1', '-S', '2...  \n",
       "4   ['/usr/bin/sacct', '-u', 'appelte1', '-S', '2...  "
      ]
     },
     "execution_count": 6,
     "metadata": {},
     "output_type": "execute_result"
    }
   ],
   "source": [
    "# set column names\n",
    "colnames = ['END', 'USER', 'RETRY', 'TIME', 'RETURNCODE', 'COMMAND']\n",
    "ce5.columns = colnames\n",
    "\n",
    "# Parse 'END' column with optional milliseconds\n",
    "# ce5['END'] = pd.to_datetime(ce5['END'], format='%Y-%m-%d %H:%M:%S.%f', errors='coerce') # don't like coercing errors\n",
    "# ce5['END'] = [dt.strptime(row + ('.000000' if '.' not in row else ''), '%Y-%m-%d %H:%M:%S.%f') for row in ce5['END']] # works, but not as efficient\n",
    "\n",
    "# optional milliseconds function\n",
    "def parse_end_column(series):\n",
    "    # format with milliseconds\n",
    "    parsed = pd.to_datetime(series, format='%Y-%m-%d %H:%M:%S.%f', errors='coerce')\n",
    "    # Handle rows where the first attempt failed\n",
    "    wrong = parsed.isna()\n",
    "    if wrong.any():\n",
    "        parsed[wrong] = pd.to_datetime(series[wrong], format='%Y-%m-%d %H:%M:%S', errors='coerce')\n",
    "    return parsed\n",
    "\n",
    "# Apply the parsing function to the 'END' column\n",
    "ce5['END'] = parse_end_column(ce5['END'])\n",
    "\n",
    "# Clean and convert other columns\n",
    "ce5['TIME'] = ce5['TIME'].str.replace('time', '', regex=False).astype(float)\n",
    "ce5['USER'] = ce5['USER'].str.replace('user', '', regex=False).astype(int)\n",
    "ce5['RETRY'] = ce5['RETRY'].str.replace('retry', '', regex=False).astype(int)\n",
    "ce5['RETURNCODE'] = ce5['RETURNCODE'].str.replace('returncode', '', regex=False).astype(float)\n",
    "ce5['COMMAND'] = ce5['COMMAND'].str.replace('command', '', regex=False)\n",
    "\n",
    "# Display the updated DataFrame\n",
    "ce5.head()"
   ]
  },
  {
   "cell_type": "code",
   "execution_count": null,
   "metadata": {},
   "outputs": [
    {
     "data": {
      "text/plain": [
       "pandas._libs.tslibs.timestamps.Timestamp"
      ]
     },
     "execution_count": 14,
     "metadata": {},
     "output_type": "execute_result"
    }
   ],
   "source": [
    "ce5['END'].sort_values().iloc[-1]"
   ]
  },
  {
   "cell_type": "code",
   "execution_count": 12,
   "metadata": {},
   "outputs": [],
   "source": [
    "# ce6 = pd.read_csv('../data/slurm_wrapper_ce6.log',\n",
    "#                   header=None,\n",
    "#                   delimiter=' - ',\n",
    "#                   engine='python',\n",
    "#                   nrows=100)"
   ]
  },
  {
   "cell_type": "code",
   "execution_count": 13,
   "metadata": {},
   "outputs": [],
   "source": [
    "# ce6.columns=colnames\n",
    "# ce6['TIME'] = [float(re.sub(r'time', '', row)) for row in ce6['TIME']]\n",
    "# ce6['USER'] = [float(re.sub(r'user', '', row)) for row in ce6['USER']]\n",
    "# ce6['RETRY'] = [float(re.sub(r'retry', '', row)) for row in ce6['RETRY']]\n",
    "# ce6['RETURNCODE'] = [float(re.sub(r'returncode', '', row)) for row in ce6['RETURNCODE']]\n",
    "# ce6['COMMAND'] = [re.sub(r'command', '', row) for row in ce6['COMMAND']]\n",
    "# ce6.head()"
   ]
  }
 ],
 "metadata": {
  "kernelspec": {
   "display_name": "base",
   "language": "python",
   "name": "python3"
  },
  "language_info": {
   "codemirror_mode": {
    "name": "ipython",
    "version": 3
   },
   "file_extension": ".py",
   "mimetype": "text/x-python",
   "name": "python",
   "nbconvert_exporter": "python",
   "pygments_lexer": "ipython3",
   "version": "3.12.4"
  }
 },
 "nbformat": 4,
 "nbformat_minor": 2
}
