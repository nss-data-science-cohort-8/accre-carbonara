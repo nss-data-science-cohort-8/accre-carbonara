{
 "cells": [
  {
   "cell_type": "code",
   "execution_count": 571,
   "metadata": {},
   "outputs": [],
   "source": [
    "import pandas as pd\n",
    "from datetime import datetime as dt\n",
    "from datetime import timedelta\n",
    "import re\n",
    "import numpy as np\n",
    "import matplotlib.pyplot as plt\n",
    "import seaborn as sns\n",
    "import plotly.express as px\n",
    "import os\n",
    "import statsmodels.api as sm\n",
    "import statsmodels.formula.api as smf\n",
    "from scipy.stats import chi2\n",
    "from plotly.subplots import make_subplots\n",
    "import plotly.graph_objects as go"
   ]
  },
  {
   "cell_type": "code",
   "execution_count": 111,
   "metadata": {},
   "outputs": [],
   "source": [
    "pd.set_option('mode.chained_assignment', None)"
   ]
  },
  {
   "cell_type": "code",
   "execution_count": 2,
   "metadata": {},
   "outputs": [
    {
     "name": "stdout",
     "output_type": "stream",
     "text": [
      "Current working directory is C:\\Users\\cavin\\Documents\\NSS_Projects\\ACCR-project-clj\\accre-carbonara\\notebooks\n"
     ]
    }
   ],
   "source": [
    "print(f'Current working directory is {os.getcwd()}')"
   ]
  },
  {
   "cell_type": "code",
   "execution_count": 3,
   "metadata": {},
   "outputs": [],
   "source": [
    "# Import data\n",
    "jobs = pd.read_csv(\"../data/fullsample.csv\",\n",
    "                    # nrows = 1000000\n",
    "                    )\n",
    "ce5 = pd.read_csv('../data/ce5_unresponsive.csv')\n",
    "ce6 = pd.read_csv('../data/ce6_unresponsive.csv')\n",
    "jobs = jobs[jobs['END'] != 'Unknown']\n",
    "\n",
    "# Convert dates to datetime objects\n",
    "jobs['END'] = pd.to_datetime(jobs['END'])\n",
    "jobs['BEGIN'] = pd.to_datetime(jobs['BEGIN'])\n",
    "\n",
    "# String manipulation of memory columns\n",
    "jobs['USEDMEM'] = jobs['USEDMEM'].str[:-1]\n",
    "jobs.insert(5, 'Mc_Mn', jobs['REQMEM'].str[-2:])\n",
    "jobs['REQMEM']  = jobs['REQMEM'].str[:-2]\n",
    "\n",
    "# Convert to numeric values for easier manipulation, and create difference col\n",
    "jobs['USEDMEM'] = pd.to_numeric(jobs['USEDMEM'])\n",
    "jobs['REQMEM'] = pd.to_numeric(jobs['REQMEM'])\n",
    "jobs['DIFFMEM'] = jobs['REQMEM'] - jobs['USEDMEM']\n",
    "\n",
    "# Create boolean column for status = COMPLETE\n",
    "jobs.insert(2, 'COMPLETE', jobs['STATE'] == 'COMPLETED')\n",
    "jobs['COMPLETE'] = jobs['COMPLETE'].astype(int)\n",
    "\n",
    "# Create columns to assign failure, job counts, and concat into one df\n",
    "ce56 = pd.concat([ce5, ce6])\n",
    "jobs['FAILED'] = 0\n",
    "jobs['JOBCOUNT'] = 1\n",
    "ce56['JOBCOUNT'] = 0\n",
    "ce56['FAILED'] = 1\n",
    "jobs_ce56 = pd.concat([jobs, ce56])\n",
    "ce56.to_csv('../data/ce56.csv', index=False)\n",
    "# Eliminate milliseconds in desired datetime column 'END' \n",
    "jobs_ce56['END'] = pd.to_datetime(jobs_ce56['END']).dt.floor('5min')"
   ]
  },
  {
   "cell_type": "code",
   "execution_count": 460,
   "metadata": {},
   "outputs": [],
   "source": [
    "df = jobs_ce56[['END', 'JOBID', 'FAILED', 'NODES', 'USEDMEM', 'CPUS', 'PARTITION']]"
   ]
  },
  {
   "cell_type": "code",
   "execution_count": 497,
   "metadata": {},
   "outputs": [],
   "source": [
    "df1 = df[df['FAILED'] == 0]\n",
    "df1 = (\n",
    "    df1\n",
    "    .groupby('END')['FAILED']\n",
    "    .value_counts()\n",
    "    .reset_index()\n",
    ")\n",
    "df2 = df[df['FAILED'] == 1]\n",
    "df2 = (\n",
    "    df2\n",
    "    .groupby('END')['FAILED']\n",
    "    .value_counts()\n",
    "    .reset_index()\n",
    ")\n",
    "reg_df = pd.concat([df1, df2])\n",
    "reg_df = (\n",
    "    reg_df\n",
    "    .sort_values('END')\n",
    "    .set_index('END')\n",
    ")\n",
    "reg_df['slurm_crashes'] = reg_df[reg_df['FAILED'] == 1]['count']\n",
    "reg_df['completed_jobs'] = reg_df[reg_df['FAILED'] == 0]['count']\n",
    "reg_df = reg_df.drop(columns = ['count'])"
   ]
  },
  {
   "cell_type": "code",
   "execution_count": 547,
   "metadata": {},
   "outputs": [
    {
     "data": {
      "text/html": [
       "<div>\n",
       "<style scoped>\n",
       "    .dataframe tbody tr th:only-of-type {\n",
       "        vertical-align: middle;\n",
       "    }\n",
       "\n",
       "    .dataframe tbody tr th {\n",
       "        vertical-align: top;\n",
       "    }\n",
       "\n",
       "    .dataframe thead th {\n",
       "        text-align: right;\n",
       "    }\n",
       "</style>\n",
       "<table border=\"1\" class=\"dataframe\">\n",
       "  <thead>\n",
       "    <tr style=\"text-align: right;\">\n",
       "      <th></th>\n",
       "      <th>FAILED</th>\n",
       "      <th>slurm_crashes</th>\n",
       "      <th>completed_jobs</th>\n",
       "    </tr>\n",
       "    <tr>\n",
       "      <th>END</th>\n",
       "      <th></th>\n",
       "      <th></th>\n",
       "      <th></th>\n",
       "    </tr>\n",
       "  </thead>\n",
       "  <tbody>\n",
       "    <tr>\n",
       "      <th>2021-05-17 00:50:00</th>\n",
       "      <td>0</td>\n",
       "      <td>NaN</td>\n",
       "      <td>44.0</td>\n",
       "    </tr>\n",
       "    <tr>\n",
       "      <th>2021-03-20 06:00:00</th>\n",
       "      <td>0</td>\n",
       "      <td>NaN</td>\n",
       "      <td>42.0</td>\n",
       "    </tr>\n",
       "    <tr>\n",
       "      <th>2020-10-07 09:40:00</th>\n",
       "      <td>0</td>\n",
       "      <td>NaN</td>\n",
       "      <td>35.0</td>\n",
       "    </tr>\n",
       "    <tr>\n",
       "      <th>2021-05-17 14:55:00</th>\n",
       "      <td>0</td>\n",
       "      <td>NaN</td>\n",
       "      <td>6.0</td>\n",
       "    </tr>\n",
       "    <tr>\n",
       "      <th>2021-04-18 14:45:00</th>\n",
       "      <td>0</td>\n",
       "      <td>NaN</td>\n",
       "      <td>46.0</td>\n",
       "    </tr>\n",
       "    <tr>\n",
       "      <th>2021-01-31 12:05:00</th>\n",
       "      <td>0</td>\n",
       "      <td>NaN</td>\n",
       "      <td>45.0</td>\n",
       "    </tr>\n",
       "    <tr>\n",
       "      <th>2021-01-26 03:05:00</th>\n",
       "      <td>0</td>\n",
       "      <td>NaN</td>\n",
       "      <td>25.0</td>\n",
       "    </tr>\n",
       "    <tr>\n",
       "      <th>2021-02-22 21:25:00</th>\n",
       "      <td>0</td>\n",
       "      <td>NaN</td>\n",
       "      <td>195.0</td>\n",
       "    </tr>\n",
       "    <tr>\n",
       "      <th>2021-05-13 04:10:00</th>\n",
       "      <td>0</td>\n",
       "      <td>NaN</td>\n",
       "      <td>7.0</td>\n",
       "    </tr>\n",
       "    <tr>\n",
       "      <th>2021-02-04 18:45:00</th>\n",
       "      <td>0</td>\n",
       "      <td>NaN</td>\n",
       "      <td>55.0</td>\n",
       "    </tr>\n",
       "    <tr>\n",
       "      <th>2021-05-11 19:40:00</th>\n",
       "      <td>1</td>\n",
       "      <td>1.0</td>\n",
       "      <td>27.0</td>\n",
       "    </tr>\n",
       "    <tr>\n",
       "      <th>2020-10-05 02:15:00</th>\n",
       "      <td>0</td>\n",
       "      <td>NaN</td>\n",
       "      <td>66.0</td>\n",
       "    </tr>\n",
       "    <tr>\n",
       "      <th>2020-11-11 02:25:00</th>\n",
       "      <td>0</td>\n",
       "      <td>NaN</td>\n",
       "      <td>37.0</td>\n",
       "    </tr>\n",
       "    <tr>\n",
       "      <th>2021-05-07 10:55:00</th>\n",
       "      <td>0</td>\n",
       "      <td>NaN</td>\n",
       "      <td>501.0</td>\n",
       "    </tr>\n",
       "    <tr>\n",
       "      <th>2021-09-20 11:50:00</th>\n",
       "      <td>0</td>\n",
       "      <td>NaN</td>\n",
       "      <td>292.0</td>\n",
       "    </tr>\n",
       "    <tr>\n",
       "      <th>2021-06-01 01:00:00</th>\n",
       "      <td>0</td>\n",
       "      <td>NaN</td>\n",
       "      <td>23.0</td>\n",
       "    </tr>\n",
       "    <tr>\n",
       "      <th>2021-04-20 20:25:00</th>\n",
       "      <td>0</td>\n",
       "      <td>NaN</td>\n",
       "      <td>34.0</td>\n",
       "    </tr>\n",
       "    <tr>\n",
       "      <th>2021-01-07 06:50:00</th>\n",
       "      <td>0</td>\n",
       "      <td>NaN</td>\n",
       "      <td>16.0</td>\n",
       "    </tr>\n",
       "    <tr>\n",
       "      <th>2020-12-23 22:30:00</th>\n",
       "      <td>0</td>\n",
       "      <td>NaN</td>\n",
       "      <td>13.0</td>\n",
       "    </tr>\n",
       "    <tr>\n",
       "      <th>2021-08-20 23:30:00</th>\n",
       "      <td>0</td>\n",
       "      <td>NaN</td>\n",
       "      <td>70.0</td>\n",
       "    </tr>\n",
       "  </tbody>\n",
       "</table>\n",
       "</div>"
      ],
      "text/plain": [
       "                     FAILED  slurm_crashes  completed_jobs\n",
       "END                                                       \n",
       "2021-05-17 00:50:00       0            NaN            44.0\n",
       "2021-03-20 06:00:00       0            NaN            42.0\n",
       "2020-10-07 09:40:00       0            NaN            35.0\n",
       "2021-05-17 14:55:00       0            NaN             6.0\n",
       "2021-04-18 14:45:00       0            NaN            46.0\n",
       "2021-01-31 12:05:00       0            NaN            45.0\n",
       "2021-01-26 03:05:00       0            NaN            25.0\n",
       "2021-02-22 21:25:00       0            NaN           195.0\n",
       "2021-05-13 04:10:00       0            NaN             7.0\n",
       "2021-02-04 18:45:00       0            NaN            55.0\n",
       "2021-05-11 19:40:00       1            1.0            27.0\n",
       "2020-10-05 02:15:00       0            NaN            66.0\n",
       "2020-11-11 02:25:00       0            NaN            37.0\n",
       "2021-05-07 10:55:00       0            NaN           501.0\n",
       "2021-09-20 11:50:00       0            NaN           292.0\n",
       "2021-06-01 01:00:00       0            NaN            23.0\n",
       "2021-04-20 20:25:00       0            NaN            34.0\n",
       "2021-01-07 06:50:00       0            NaN            16.0\n",
       "2020-12-23 22:30:00       0            NaN            13.0\n",
       "2021-08-20 23:30:00       0            NaN            70.0"
      ]
     },
     "execution_count": 547,
     "metadata": {},
     "output_type": "execute_result"
    }
   ],
   "source": [
    "reg_df.sample(20)"
   ]
  },
  {
   "cell_type": "code",
   "execution_count": 549,
   "metadata": {},
   "outputs": [
    {
     "data": {
      "text/html": [
       "<div>\n",
       "<style scoped>\n",
       "    .dataframe tbody tr th:only-of-type {\n",
       "        vertical-align: middle;\n",
       "    }\n",
       "\n",
       "    .dataframe tbody tr th {\n",
       "        vertical-align: top;\n",
       "    }\n",
       "\n",
       "    .dataframe thead th {\n",
       "        text-align: right;\n",
       "    }\n",
       "</style>\n",
       "<table border=\"1\" class=\"dataframe\">\n",
       "  <thead>\n",
       "    <tr style=\"text-align: right;\">\n",
       "      <th></th>\n",
       "      <th>FAILED</th>\n",
       "      <th>slurm_crashes</th>\n",
       "      <th>completed_jobs</th>\n",
       "    </tr>\n",
       "    <tr>\n",
       "      <th>END</th>\n",
       "      <th></th>\n",
       "      <th></th>\n",
       "      <th></th>\n",
       "    </tr>\n",
       "  </thead>\n",
       "  <tbody>\n",
       "    <tr>\n",
       "      <th>2021-05-11 19:40:00</th>\n",
       "      <td>0</td>\n",
       "      <td>1.0</td>\n",
       "      <td>27.0</td>\n",
       "    </tr>\n",
       "    <tr>\n",
       "      <th>2021-05-11 19:40:00</th>\n",
       "      <td>1</td>\n",
       "      <td>1.0</td>\n",
       "      <td>27.0</td>\n",
       "    </tr>\n",
       "  </tbody>\n",
       "</table>\n",
       "</div>"
      ],
      "text/plain": [
       "                     FAILED  slurm_crashes  completed_jobs\n",
       "END                                                       \n",
       "2021-05-11 19:40:00       0            1.0            27.0\n",
       "2021-05-11 19:40:00       1            1.0            27.0"
      ]
     },
     "execution_count": 549,
     "metadata": {},
     "output_type": "execute_result"
    }
   ],
   "source": [
    "reg_df.loc['2021-05-11 19:40:00']"
   ]
  },
  {
   "cell_type": "code",
   "execution_count": 597,
   "metadata": {},
   "outputs": [
    {
     "name": "stdout",
     "output_type": "stream",
     "text": [
      "Optimization terminated successfully.\n",
      "         Current function value: 0.693119\n",
      "         Iterations 3\n"
     ]
    }
   ],
   "source": [
    "model = smf.logit('FAILED ~ slurm_crashes',\n",
    "                    data = reg_df).fit()"
   ]
  },
  {
   "cell_type": "code",
   "execution_count": 599,
   "metadata": {},
   "outputs": [
    {
     "data": {
      "text/plain": [
       "Intercept       -0.007547\n",
       "slurm_crashes    0.011953\n",
       "dtype: float64"
      ]
     },
     "execution_count": 599,
     "metadata": {},
     "output_type": "execute_result"
    }
   ],
   "source": [
    "model.params"
   ]
  },
  {
   "cell_type": "code",
   "execution_count": 587,
   "metadata": {},
   "outputs": [],
   "source": [
    "def logistic(x):\n",
    "    return 1 / (1 + np.exp(-x))"
   ]
  },
  {
   "cell_type": "code",
   "execution_count": 607,
   "metadata": {},
   "outputs": [
    {
     "name": "stdout",
     "output_type": "stream",
     "text": [
      "Estimated Probability: 0.643394328774461\n"
     ]
    }
   ],
   "source": [
    "crashes = 50\n",
    "\n",
    "logit_p = model.params['Intercept'] + model.params['slurm_crashes']*crashes\n",
    "\n",
    "print(f'Estimated Probability: {logistic(logit_p)}')"
   ]
  },
  {
   "cell_type": "code",
   "execution_count": null,
   "metadata": {},
   "outputs": [],
   "source": []
  },
  {
   "cell_type": "code",
   "execution_count": 567,
   "metadata": {},
   "outputs": [
    {
     "name": "stdout",
     "output_type": "stream",
     "text": [
      "Optimization terminated successfully.\n",
      "         Current function value: 0.102193\n",
      "         Iterations 8\n",
      "Optimization terminated successfully.\n",
      "         Current function value: 0.693147\n",
      "         Iterations 1\n"
     ]
    }
   ],
   "source": [
    "slim_model = smf.logit('FAILED ~ 1', data = reg_df).fit()\n",
    "full_model = smf.logit('FAILED ~ slurm_crashes + completed_jobs', data = reg_df).fit()"
   ]
  },
  {
   "cell_type": "code",
   "execution_count": 569,
   "metadata": {},
   "outputs": [
    {
     "data": {
      "text/plain": [
       "15788.900156026033"
      ]
     },
     "execution_count": 569,
     "metadata": {},
     "output_type": "execute_result"
    }
   ],
   "source": [
    "G2 = -2 * (slim_model.llf - full_model.llf)\n",
    "G2"
   ]
  },
  {
   "cell_type": "code",
   "execution_count": 577,
   "metadata": {},
   "outputs": [
    {
     "data": {
      "text/plain": [
       "2.0"
      ]
     },
     "execution_count": 577,
     "metadata": {},
     "output_type": "execute_result"
    }
   ],
   "source": [
    "df3 = full_model.df_model - slim_model.df_model\n",
    "df3"
   ]
  },
  {
   "cell_type": "code",
   "execution_count": 581,
   "metadata": {},
   "outputs": [
    {
     "data": {
      "text/plain": [
       "0.0"
      ]
     },
     "execution_count": 581,
     "metadata": {},
     "output_type": "execute_result"
    }
   ],
   "source": [
    "p = chi2.sf(G2, df = df3)\n",
    "p"
   ]
  },
  {
   "cell_type": "code",
   "execution_count": null,
   "metadata": {},
   "outputs": [],
   "source": []
  }
 ],
 "metadata": {
  "kernelspec": {
   "display_name": "Python 3 (ipykernel)",
   "language": "python",
   "name": "python3"
  },
  "language_info": {
   "codemirror_mode": {
    "name": "ipython",
    "version": 3
   },
   "file_extension": ".py",
   "mimetype": "text/x-python",
   "name": "python",
   "nbconvert_exporter": "python",
   "pygments_lexer": "ipython3",
   "version": "3.12.4"
  }
 },
 "nbformat": 4,
 "nbformat_minor": 4
}
