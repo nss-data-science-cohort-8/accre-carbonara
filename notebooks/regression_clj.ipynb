{
 "cells": [
  {
   "cell_type": "code",
   "execution_count": 1,
   "metadata": {},
   "outputs": [],
   "source": [
    "import pandas as pd\n",
    "from datetime import datetime as dt\n",
    "from datetime import timedelta\n",
    "import re\n",
    "import numpy as np\n",
    "import matplotlib.pyplot as plt\n",
    "import seaborn as sns\n",
    "import plotly.express as px\n",
    "import os\n",
    "import statsmodels.api as sm\n",
    "import statsmodels.formula.api as smf\n",
    "from scipy.stats import chi2\n",
    "from plotly.subplots import make_subplots\n",
    "import plotly.graph_objects as go"
   ]
  },
  {
   "cell_type": "code",
   "execution_count": 2,
   "metadata": {},
   "outputs": [],
   "source": [
    "pd.set_option('mode.chained_assignment', None)\n",
    "pd.options.mode.copy_on_write = True\n",
    "pd.set_option('display.float_format', lambda x: '%.2f' % x)"
   ]
  },
  {
   "cell_type": "code",
   "execution_count": 3,
   "metadata": {},
   "outputs": [
    {
     "name": "stdout",
     "output_type": "stream",
     "text": [
      "Current working directory is C:\\Users\\cavin\\Documents\\NSS_Projects\\ACCR-project-clj\\accre-carbonara\\notebooks\n"
     ]
    }
   ],
   "source": [
    "print(f'Current working directory is {os.getcwd()}')"
   ]
  },
  {
   "cell_type": "code",
   "execution_count": 4,
   "metadata": {},
   "outputs": [],
   "source": [
    "# def ce5_func():\n",
    "    # read in dataset \n",
    "    # ce5 = pd.read_csv('../data/slurm_wrapper_ce5.log',\n",
    "                      # header=None,\n",
    "                      # delimiter=' - ',\n",
    "                      # engine='python',\n",
    "                    #   nrows=1000000\n",
    "                      # )\n",
    "    \n",
    "    # set column names\n",
    "    # colnames = ['END', 'USER', 'RETRY', 'TIME', 'RETURNCODE', 'COMMAND']\n",
    "    # ce5.columns = colnames\n",
    "    \n",
    "    # Clean and convert other columns\n",
    "    # ce5['TIME'] = ce5['TIME'].str.replace('time', '', regex=False).astype(float)\n",
    "    # ce5['USER'] = ce5['USER'].str.replace('user', '', regex=False).astype(int)\n",
    "    # ce5['RETRY'] = ce5['RETRY'].str.replace('retry', '', regex=False).astype(int)\n",
    "    # ce5['RETURNCODE'] = ce5['RETURNCODE'].str.replace('returncode', '', regex=False).astype(float)\n",
    "    # ce5['COMMAND'] = ce5['COMMAND'].str.replace('command', '', regex=False)\n",
    "    # ce5['COMMAND'] = [re.sub(\"[\\'\\\\[\\\\] ]\", '', row).split(',') for row in ce5['COMMAND']];\n",
    "    \n",
    "    # slicing out the records that satisfy unresponsive conditions outlined. \n",
    "    # ce5_filtered = ce5[(ce5['USER'] == 9204) & (ce5['RETURNCODE'] == 1.0) & (ce5['TIME'] > 15)]\n",
    "    # ce5_unresponsive_df = ce5_filtered[ce5_filtered['COMMAND'].map(lambda x: any('sbatch' in cmd for cmd in x))]\n",
    "    # return ce5_unresponsive_df"
   ]
  },
  {
   "cell_type": "code",
   "execution_count": 5,
   "metadata": {},
   "outputs": [],
   "source": [
    "# def ce6_func():\n",
    "    # read in dataset \n",
    "    # ce6 = pd.read_csv('../data/slurm_wrapper_ce6.log',\n",
    "                      # header=None,\n",
    "                      # delimiter=' - ',\n",
    "                      # engine='python',\n",
    "                    #   nrows=10000\n",
    "                      # )\n",
    "    # set column names\n",
    "    # colnames = ['END', 'USER', 'RETRY', 'TIME', 'RETURNCODE', 'COMMAND']\n",
    "    # ce6.columns = colnames\n",
    "    \n",
    "    # Clean and convert other columns\n",
    "    # ce6['TIME'] = ce6['TIME'].str.replace('time', '', regex=False).astype(float)\n",
    "    # ce6['USER'] = ce6['USER'].str.replace('user', '', regex=False).astype(int)\n",
    "    # ce6['RETRY'] = ce6['RETRY'].str.replace('retry', '', regex=False).astype(int)\n",
    "    # ce6['RETURNCODE'] = ce6['RETURNCODE'].str.replace('returncode', '', regex=False).astype(float)\n",
    "    # ce6['COMMAND'] = ce6['COMMAND'].str.replace('command', '', regex=False)\n",
    "    # ce6['COMMAND'] = [re.sub(\"[\\'\\\\[\\\\] ]\", '', row).split(',') for row in ce6['COMMAND']];\n",
    "    \n",
    "    # slicing out the records that satisfy unresponsive conditions outlined. \n",
    "    # ce6_filtered = ce6[(ce6['USER'] == 9204) & (ce6['RETURNCODE'] == 1.0) & (ce6['TIME'] > 15)]\n",
    "    # ce6_unresponsive_df = ce6_filtered[ce6_filtered['COMMAND'].map(lambda x: any('sbatch' in cmd for cmd in x))]\n",
    "    # return ce6_unresponsive_df"
   ]
  },
  {
   "cell_type": "code",
   "execution_count": 6,
   "metadata": {},
   "outputs": [],
   "source": [
    "def jobs_ce56_func():\n",
    "    # Import data\n",
    "    jobs = pd.read_csv(\"../data/fullsample.csv\",\n",
    "                    # nrows = 1000000\n",
    "                    )\n",
    "    ce5 = pd.read_csv('../data/ce5_unresponsive.csv') \n",
    "    ce6 = pd.read_csv('../data/ce6_unresponsive.csv')\n",
    "    jobs = jobs[jobs['END'] != 'Unknown']\n",
    "    \n",
    "    # Convert dates to datetime objects\n",
    "    jobs['END'] = pd.to_datetime(jobs['END'])\n",
    "    jobs['BEGIN'] = pd.to_datetime(jobs['BEGIN'])\n",
    "    \n",
    "    # String manipulation of memory columns\n",
    "    jobs['USEDMEM'] = jobs['USEDMEM'].str[:-1]\n",
    "    jobs.insert(5, 'Mc_Mn', jobs['REQMEM'].str[-2:])\n",
    "    jobs['REQMEM']  = jobs['REQMEM'].str[:-2]\n",
    "    \n",
    "    # Convert to numeric values for easier manipulation, and create difference col\n",
    "    jobs['USEDMEM'] = pd.to_numeric(jobs['USEDMEM'])\n",
    "    jobs['REQMEM'] = pd.to_numeric(jobs['REQMEM'])\n",
    "    jobs['DIFFMEM'] = jobs['REQMEM'] - jobs['USEDMEM']\n",
    "    \n",
    "    # Create boolean column for status = COMPLETE, drop all rows where status is not complete\n",
    "    jobs.insert(2, 'COMPLETE', jobs['STATE'] == 'COMPLETED')\n",
    "    jobs['COMPLETE'] = jobs['COMPLETE'].astype(int)\n",
    "    jobs = jobs.drop(columns=['STATE'])\n",
    "    jobs = jobs[jobs['COMPLETE'] != 0]\n",
    "    \n",
    "    # Create columns to assign failure, job counts, and concat into one df\n",
    "    ce56 = pd.concat([ce5, ce6])\n",
    "    jobs['FAILED'] = 0\n",
    "    jobs['JOBCOUNT'] = 1\n",
    "    ce56['JOBCOUNT'] = 0\n",
    "    ce56['FAILED'] = 1\n",
    "    jobs_ce56 = pd.concat([jobs, ce56])\n",
    "    \n",
    "    # Broadened to 5 minute intervals in desired datetime column 'END' \n",
    "    jobs_ce56['END'] = pd.to_datetime(jobs_ce56['END']).dt.floor('5min')\n",
    "    # ce56.to_csv('../data/ce56.csv', index=False)\n",
    "    return jobs_ce56"
   ]
  },
  {
   "cell_type": "code",
   "execution_count": 7,
   "metadata": {},
   "outputs": [],
   "source": [
    "jobs_ce56_func();"
   ]
  },
  {
   "cell_type": "code",
   "execution_count": 92,
   "metadata": {},
   "outputs": [],
   "source": [
    "def reg_df_func():\n",
    "    # Narrow down DataFrame to columns that matter\n",
    "    df = jobs_ce56_func()[['END', 'JOBID', 'FAILED', 'JOBCOUNT', 'NODES', 'USEDMEM', 'CPUS', 'PARTITION']]\n",
    "    \n",
    "    # Create new DataFrame sorted by date with just dates where failed is none\n",
    "    df1 = df[df['FAILED'] == 0]\n",
    "    df1 = (\n",
    "        df1\n",
    "        .groupby('END')['FAILED']\n",
    "        .value_counts()\n",
    "        .reset_index()\n",
    "    )\n",
    "    \n",
    "    # Create similar DataFrame sorted by date where failed has happened\n",
    "    df2 = df[df['FAILED'] == 1]\n",
    "    df2 = (\n",
    "        df2\n",
    "        .groupby('END')['FAILED']\n",
    "        .value_counts()\n",
    "        .reset_index()\n",
    "    )\n",
    "    \n",
    "    # Concatenate both sorted dataframes and set the index to the END column\n",
    "    reg_df = pd.merge(df1, df2, how='outer')\n",
    "    reg_df = (\n",
    "        reg_df\n",
    "        .sort_values('END')\n",
    "        .set_index('END')\n",
    "    )\n",
    "    \n",
    "    # create new columns based on the count of slurm crashes and the frequency of completed jobs for any one time\n",
    "    reg_df['slurm_crashes'] = reg_df[reg_df['FAILED'] == 1]['count']\n",
    "    reg_df['completed_jobs'] = reg_df[reg_df['FAILED'] == 0]['count']\n",
    "    reg_df = reg_df.drop(columns = ['count'])\n",
    "    # reg_df.to_csv('../data/reg_df.csv', index=False)\n",
    "    return reg_df"
   ]
  },
  {
   "cell_type": "code",
   "execution_count": 94,
   "metadata": {},
   "outputs": [
    {
     "data": {
      "text/html": [
       "<div>\n",
       "<style scoped>\n",
       "    .dataframe tbody tr th:only-of-type {\n",
       "        vertical-align: middle;\n",
       "    }\n",
       "\n",
       "    .dataframe tbody tr th {\n",
       "        vertical-align: top;\n",
       "    }\n",
       "\n",
       "    .dataframe thead th {\n",
       "        text-align: right;\n",
       "    }\n",
       "</style>\n",
       "<table border=\"1\" class=\"dataframe\">\n",
       "  <thead>\n",
       "    <tr style=\"text-align: right;\">\n",
       "      <th></th>\n",
       "      <th>FAILED</th>\n",
       "      <th>slurm_crashes</th>\n",
       "      <th>completed_jobs</th>\n",
       "    </tr>\n",
       "    <tr>\n",
       "      <th>END</th>\n",
       "      <th></th>\n",
       "      <th></th>\n",
       "      <th></th>\n",
       "    </tr>\n",
       "  </thead>\n",
       "  <tbody>\n",
       "    <tr>\n",
       "      <th>2020-10-01 00:10:00</th>\n",
       "      <td>0</td>\n",
       "      <td>NaN</td>\n",
       "      <td>3.00</td>\n",
       "    </tr>\n",
       "    <tr>\n",
       "      <th>2020-10-01 00:15:00</th>\n",
       "      <td>0</td>\n",
       "      <td>NaN</td>\n",
       "      <td>3.00</td>\n",
       "    </tr>\n",
       "    <tr>\n",
       "      <th>2020-10-01 00:20:00</th>\n",
       "      <td>0</td>\n",
       "      <td>NaN</td>\n",
       "      <td>9.00</td>\n",
       "    </tr>\n",
       "    <tr>\n",
       "      <th>2020-10-01 00:25:00</th>\n",
       "      <td>0</td>\n",
       "      <td>NaN</td>\n",
       "      <td>18.00</td>\n",
       "    </tr>\n",
       "    <tr>\n",
       "      <th>2020-10-01 00:30:00</th>\n",
       "      <td>0</td>\n",
       "      <td>NaN</td>\n",
       "      <td>11.00</td>\n",
       "    </tr>\n",
       "    <tr>\n",
       "      <th>...</th>\n",
       "      <td>...</td>\n",
       "      <td>...</td>\n",
       "      <td>...</td>\n",
       "    </tr>\n",
       "    <tr>\n",
       "      <th>2021-10-07 20:10:00</th>\n",
       "      <td>0</td>\n",
       "      <td>NaN</td>\n",
       "      <td>1.00</td>\n",
       "    </tr>\n",
       "    <tr>\n",
       "      <th>2021-10-07 20:15:00</th>\n",
       "      <td>0</td>\n",
       "      <td>NaN</td>\n",
       "      <td>1.00</td>\n",
       "    </tr>\n",
       "    <tr>\n",
       "      <th>2021-10-07 20:25:00</th>\n",
       "      <td>0</td>\n",
       "      <td>NaN</td>\n",
       "      <td>1.00</td>\n",
       "    </tr>\n",
       "    <tr>\n",
       "      <th>2021-10-07 20:30:00</th>\n",
       "      <td>0</td>\n",
       "      <td>NaN</td>\n",
       "      <td>1.00</td>\n",
       "    </tr>\n",
       "    <tr>\n",
       "      <th>2021-10-07 20:40:00</th>\n",
       "      <td>0</td>\n",
       "      <td>NaN</td>\n",
       "      <td>1.00</td>\n",
       "    </tr>\n",
       "  </tbody>\n",
       "</table>\n",
       "<p>107743 rows × 3 columns</p>\n",
       "</div>"
      ],
      "text/plain": [
       "                     FAILED  slurm_crashes  completed_jobs\n",
       "END                                                       \n",
       "2020-10-01 00:10:00       0            NaN            3.00\n",
       "2020-10-01 00:15:00       0            NaN            3.00\n",
       "2020-10-01 00:20:00       0            NaN            9.00\n",
       "2020-10-01 00:25:00       0            NaN           18.00\n",
       "2020-10-01 00:30:00       0            NaN           11.00\n",
       "...                     ...            ...             ...\n",
       "2021-10-07 20:10:00       0            NaN            1.00\n",
       "2021-10-07 20:15:00       0            NaN            1.00\n",
       "2021-10-07 20:25:00       0            NaN            1.00\n",
       "2021-10-07 20:30:00       0            NaN            1.00\n",
       "2021-10-07 20:40:00       0            NaN            1.00\n",
       "\n",
       "[107743 rows x 3 columns]"
      ]
     },
     "execution_count": 94,
     "metadata": {},
     "output_type": "execute_result"
    }
   ],
   "source": [
    "reg_df_func()"
   ]
  },
  {
   "cell_type": "code",
   "execution_count": 96,
   "metadata": {},
   "outputs": [],
   "source": [
    "reg_df = reg_df_func()"
   ]
  },
  {
   "cell_type": "code",
   "execution_count": 97,
   "metadata": {},
   "outputs": [],
   "source": [
    "# for index, row in reg_df.iterrows():\n",
    "    # if row['FAILED'] == 1:\n",
    "        # reg_df.at[index, 'completed_jobs'] = np.nan\n",
    "    # if row['FAILED'] == 0:\n",
    "        # reg_df.at[index, 'slurm_crashes'] = np.nan"
   ]
  },
  {
   "cell_type": "code",
   "execution_count": 98,
   "metadata": {},
   "outputs": [],
   "source": [
    "# reg_df.sort_index(kind='mergesort')"
   ]
  },
  {
   "cell_type": "code",
   "execution_count": 99,
   "metadata": {},
   "outputs": [
    {
     "data": {
      "text/html": [
       "<div>\n",
       "<style scoped>\n",
       "    .dataframe tbody tr th:only-of-type {\n",
       "        vertical-align: middle;\n",
       "    }\n",
       "\n",
       "    .dataframe tbody tr th {\n",
       "        vertical-align: top;\n",
       "    }\n",
       "\n",
       "    .dataframe thead th {\n",
       "        text-align: right;\n",
       "    }\n",
       "</style>\n",
       "<table border=\"1\" class=\"dataframe\">\n",
       "  <thead>\n",
       "    <tr style=\"text-align: right;\">\n",
       "      <th></th>\n",
       "      <th>FAILED</th>\n",
       "      <th>slurm_crashes</th>\n",
       "      <th>completed_jobs</th>\n",
       "    </tr>\n",
       "    <tr>\n",
       "      <th>END</th>\n",
       "      <th></th>\n",
       "      <th></th>\n",
       "      <th></th>\n",
       "    </tr>\n",
       "  </thead>\n",
       "  <tbody>\n",
       "    <tr>\n",
       "      <th>2020-10-18 06:15:00</th>\n",
       "      <td>1</td>\n",
       "      <td>1.00</td>\n",
       "      <td>4.00</td>\n",
       "    </tr>\n",
       "    <tr>\n",
       "      <th>2020-10-18 06:35:00</th>\n",
       "      <td>1</td>\n",
       "      <td>1.00</td>\n",
       "      <td>5.00</td>\n",
       "    </tr>\n",
       "    <tr>\n",
       "      <th>2020-10-18 06:50:00</th>\n",
       "      <td>1</td>\n",
       "      <td>2.00</td>\n",
       "      <td>60.00</td>\n",
       "    </tr>\n",
       "    <tr>\n",
       "      <th>2020-10-18 07:45:00</th>\n",
       "      <td>1</td>\n",
       "      <td>3.00</td>\n",
       "      <td>14.00</td>\n",
       "    </tr>\n",
       "    <tr>\n",
       "      <th>2020-10-18 07:50:00</th>\n",
       "      <td>1</td>\n",
       "      <td>1.00</td>\n",
       "      <td>7.00</td>\n",
       "    </tr>\n",
       "    <tr>\n",
       "      <th>...</th>\n",
       "      <td>...</td>\n",
       "      <td>...</td>\n",
       "      <td>...</td>\n",
       "    </tr>\n",
       "    <tr>\n",
       "      <th>2021-09-24 18:10:00</th>\n",
       "      <td>1</td>\n",
       "      <td>1.00</td>\n",
       "      <td>32.00</td>\n",
       "    </tr>\n",
       "    <tr>\n",
       "      <th>2021-09-24 19:10:00</th>\n",
       "      <td>1</td>\n",
       "      <td>1.00</td>\n",
       "      <td>26.00</td>\n",
       "    </tr>\n",
       "    <tr>\n",
       "      <th>2021-10-02 08:10:00</th>\n",
       "      <td>1</td>\n",
       "      <td>1.00</td>\n",
       "      <td>35.00</td>\n",
       "    </tr>\n",
       "    <tr>\n",
       "      <th>2021-10-02 18:25:00</th>\n",
       "      <td>1</td>\n",
       "      <td>1.00</td>\n",
       "      <td>59.00</td>\n",
       "    </tr>\n",
       "    <tr>\n",
       "      <th>2021-10-06 15:35:00</th>\n",
       "      <td>1</td>\n",
       "      <td>1.00</td>\n",
       "      <td>NaN</td>\n",
       "    </tr>\n",
       "  </tbody>\n",
       "</table>\n",
       "<p>2271 rows × 3 columns</p>\n",
       "</div>"
      ],
      "text/plain": [
       "                     FAILED  slurm_crashes  completed_jobs\n",
       "END                                                       \n",
       "2020-10-18 06:15:00       1           1.00            4.00\n",
       "2020-10-18 06:35:00       1           1.00            5.00\n",
       "2020-10-18 06:50:00       1           2.00           60.00\n",
       "2020-10-18 07:45:00       1           3.00           14.00\n",
       "2020-10-18 07:50:00       1           1.00            7.00\n",
       "...                     ...            ...             ...\n",
       "2021-09-24 18:10:00       1           1.00           32.00\n",
       "2021-09-24 19:10:00       1           1.00           26.00\n",
       "2021-10-02 08:10:00       1           1.00           35.00\n",
       "2021-10-02 18:25:00       1           1.00           59.00\n",
       "2021-10-06 15:35:00       1           1.00             NaN\n",
       "\n",
       "[2271 rows x 3 columns]"
      ]
     },
     "execution_count": 99,
     "metadata": {},
     "output_type": "execute_result"
    }
   ],
   "source": [
    "reg_df[reg_df['FAILED'] == 1]"
   ]
  },
  {
   "cell_type": "code",
   "execution_count": 14,
   "metadata": {},
   "outputs": [
    {
     "data": {
      "text/html": [
       "<div>\n",
       "<style scoped>\n",
       "    .dataframe tbody tr th:only-of-type {\n",
       "        vertical-align: middle;\n",
       "    }\n",
       "\n",
       "    .dataframe tbody tr th {\n",
       "        vertical-align: top;\n",
       "    }\n",
       "\n",
       "    .dataframe thead th {\n",
       "        text-align: right;\n",
       "    }\n",
       "</style>\n",
       "<table border=\"1\" class=\"dataframe\">\n",
       "  <thead>\n",
       "    <tr style=\"text-align: right;\">\n",
       "      <th></th>\n",
       "      <th>FAILED</th>\n",
       "      <th>slurm_crashes</th>\n",
       "      <th>completed_jobs</th>\n",
       "    </tr>\n",
       "    <tr>\n",
       "      <th>END</th>\n",
       "      <th></th>\n",
       "      <th></th>\n",
       "      <th></th>\n",
       "    </tr>\n",
       "  </thead>\n",
       "  <tbody>\n",
       "    <tr>\n",
       "      <th>2020-11-01 00:15:00</th>\n",
       "      <td>0</td>\n",
       "      <td>NaN</td>\n",
       "      <td>18.00</td>\n",
       "    </tr>\n",
       "    <tr>\n",
       "      <th>2021-01-01 20:35:00</th>\n",
       "      <td>0</td>\n",
       "      <td>NaN</td>\n",
       "      <td>36.00</td>\n",
       "    </tr>\n",
       "    <tr>\n",
       "      <th>2020-11-16 11:15:00</th>\n",
       "      <td>0</td>\n",
       "      <td>NaN</td>\n",
       "      <td>30.00</td>\n",
       "    </tr>\n",
       "    <tr>\n",
       "      <th>2021-05-02 12:15:00</th>\n",
       "      <td>0</td>\n",
       "      <td>NaN</td>\n",
       "      <td>179.00</td>\n",
       "    </tr>\n",
       "    <tr>\n",
       "      <th>2021-07-10 01:05:00</th>\n",
       "      <td>1</td>\n",
       "      <td>1.00</td>\n",
       "      <td>3.00</td>\n",
       "    </tr>\n",
       "    <tr>\n",
       "      <th>2020-10-21 10:25:00</th>\n",
       "      <td>0</td>\n",
       "      <td>NaN</td>\n",
       "      <td>35.00</td>\n",
       "    </tr>\n",
       "    <tr>\n",
       "      <th>2021-09-19 07:40:00</th>\n",
       "      <td>0</td>\n",
       "      <td>NaN</td>\n",
       "      <td>54.00</td>\n",
       "    </tr>\n",
       "    <tr>\n",
       "      <th>2021-09-01 10:55:00</th>\n",
       "      <td>0</td>\n",
       "      <td>NaN</td>\n",
       "      <td>164.00</td>\n",
       "    </tr>\n",
       "    <tr>\n",
       "      <th>2021-03-03 14:00:00</th>\n",
       "      <td>0</td>\n",
       "      <td>NaN</td>\n",
       "      <td>340.00</td>\n",
       "    </tr>\n",
       "    <tr>\n",
       "      <th>2021-07-09 11:40:00</th>\n",
       "      <td>0</td>\n",
       "      <td>NaN</td>\n",
       "      <td>14.00</td>\n",
       "    </tr>\n",
       "    <tr>\n",
       "      <th>2021-07-18 12:15:00</th>\n",
       "      <td>0</td>\n",
       "      <td>NaN</td>\n",
       "      <td>13.00</td>\n",
       "    </tr>\n",
       "    <tr>\n",
       "      <th>2021-05-13 21:05:00</th>\n",
       "      <td>0</td>\n",
       "      <td>NaN</td>\n",
       "      <td>14.00</td>\n",
       "    </tr>\n",
       "    <tr>\n",
       "      <th>2021-05-25 22:10:00</th>\n",
       "      <td>0</td>\n",
       "      <td>NaN</td>\n",
       "      <td>1.00</td>\n",
       "    </tr>\n",
       "    <tr>\n",
       "      <th>2021-07-08 21:10:00</th>\n",
       "      <td>0</td>\n",
       "      <td>NaN</td>\n",
       "      <td>24.00</td>\n",
       "    </tr>\n",
       "    <tr>\n",
       "      <th>2020-11-14 23:50:00</th>\n",
       "      <td>0</td>\n",
       "      <td>NaN</td>\n",
       "      <td>58.00</td>\n",
       "    </tr>\n",
       "    <tr>\n",
       "      <th>2021-10-01 04:35:00</th>\n",
       "      <td>0</td>\n",
       "      <td>NaN</td>\n",
       "      <td>29.00</td>\n",
       "    </tr>\n",
       "    <tr>\n",
       "      <th>2020-11-18 17:30:00</th>\n",
       "      <td>0</td>\n",
       "      <td>NaN</td>\n",
       "      <td>33.00</td>\n",
       "    </tr>\n",
       "    <tr>\n",
       "      <th>2021-07-09 00:40:00</th>\n",
       "      <td>0</td>\n",
       "      <td>NaN</td>\n",
       "      <td>12.00</td>\n",
       "    </tr>\n",
       "    <tr>\n",
       "      <th>2021-08-09 22:55:00</th>\n",
       "      <td>0</td>\n",
       "      <td>NaN</td>\n",
       "      <td>64.00</td>\n",
       "    </tr>\n",
       "    <tr>\n",
       "      <th>2020-10-05 23:30:00</th>\n",
       "      <td>0</td>\n",
       "      <td>NaN</td>\n",
       "      <td>46.00</td>\n",
       "    </tr>\n",
       "  </tbody>\n",
       "</table>\n",
       "</div>"
      ],
      "text/plain": [
       "                     FAILED  slurm_crashes  completed_jobs\n",
       "END                                                       \n",
       "2020-11-01 00:15:00       0            NaN           18.00\n",
       "2021-01-01 20:35:00       0            NaN           36.00\n",
       "2020-11-16 11:15:00       0            NaN           30.00\n",
       "2021-05-02 12:15:00       0            NaN          179.00\n",
       "2021-07-10 01:05:00       1           1.00            3.00\n",
       "2020-10-21 10:25:00       0            NaN           35.00\n",
       "2021-09-19 07:40:00       0            NaN           54.00\n",
       "2021-09-01 10:55:00       0            NaN          164.00\n",
       "2021-03-03 14:00:00       0            NaN          340.00\n",
       "2021-07-09 11:40:00       0            NaN           14.00\n",
       "2021-07-18 12:15:00       0            NaN           13.00\n",
       "2021-05-13 21:05:00       0            NaN           14.00\n",
       "2021-05-25 22:10:00       0            NaN            1.00\n",
       "2021-07-08 21:10:00       0            NaN           24.00\n",
       "2020-11-14 23:50:00       0            NaN           58.00\n",
       "2021-10-01 04:35:00       0            NaN           29.00\n",
       "2020-11-18 17:30:00       0            NaN           33.00\n",
       "2021-07-09 00:40:00       0            NaN           12.00\n",
       "2021-08-09 22:55:00       0            NaN           64.00\n",
       "2020-10-05 23:30:00       0            NaN           46.00"
      ]
     },
     "execution_count": 14,
     "metadata": {},
     "output_type": "execute_result"
    }
   ],
   "source": [
    "reg_df.sample(20)"
   ]
  },
  {
   "cell_type": "code",
   "execution_count": 100,
   "metadata": {},
   "outputs": [
    {
     "data": {
      "text/html": [
       "<div>\n",
       "<style scoped>\n",
       "    .dataframe tbody tr th:only-of-type {\n",
       "        vertical-align: middle;\n",
       "    }\n",
       "\n",
       "    .dataframe tbody tr th {\n",
       "        vertical-align: top;\n",
       "    }\n",
       "\n",
       "    .dataframe thead th {\n",
       "        text-align: right;\n",
       "    }\n",
       "</style>\n",
       "<table border=\"1\" class=\"dataframe\">\n",
       "  <thead>\n",
       "    <tr style=\"text-align: right;\">\n",
       "      <th></th>\n",
       "      <th>FAILED</th>\n",
       "      <th>slurm_crashes</th>\n",
       "      <th>completed_jobs</th>\n",
       "    </tr>\n",
       "    <tr>\n",
       "      <th>END</th>\n",
       "      <th></th>\n",
       "      <th></th>\n",
       "      <th></th>\n",
       "    </tr>\n",
       "  </thead>\n",
       "  <tbody>\n",
       "    <tr>\n",
       "      <th>2020-10-18 07:45:00</th>\n",
       "      <td>0</td>\n",
       "      <td>3.00</td>\n",
       "      <td>14.00</td>\n",
       "    </tr>\n",
       "    <tr>\n",
       "      <th>2020-10-18 07:45:00</th>\n",
       "      <td>1</td>\n",
       "      <td>3.00</td>\n",
       "      <td>14.00</td>\n",
       "    </tr>\n",
       "  </tbody>\n",
       "</table>\n",
       "</div>"
      ],
      "text/plain": [
       "                     FAILED  slurm_crashes  completed_jobs\n",
       "END                                                       \n",
       "2020-10-18 07:45:00       0           3.00           14.00\n",
       "2020-10-18 07:45:00       1           3.00           14.00"
      ]
     },
     "execution_count": 100,
     "metadata": {},
     "output_type": "execute_result"
    }
   ],
   "source": [
    "reg_df.loc['2020-10-18 07:45:00']"
   ]
  },
  {
   "cell_type": "code",
   "execution_count": 106,
   "metadata": {},
   "outputs": [
    {
     "name": "stdout",
     "output_type": "stream",
     "text": [
      "Optimization terminated successfully.\n",
      "         Current function value: 0.101429\n",
      "         Iterations 8\n"
     ]
    }
   ],
   "source": [
    "model = smf.logit('FAILED ~ completed_jobs',\n",
    "                    data = reg_df).fit()"
   ]
  },
  {
   "cell_type": "code",
   "execution_count": 108,
   "metadata": {},
   "outputs": [
    {
     "data": {
      "text/plain": [
       "Intercept        -3.83\n",
       "completed_jobs   -0.00\n",
       "dtype: float64"
      ]
     },
     "execution_count": 108,
     "metadata": {},
     "output_type": "execute_result"
    }
   ],
   "source": [
    "model.params"
   ]
  },
  {
   "cell_type": "code",
   "execution_count": 110,
   "metadata": {},
   "outputs": [],
   "source": [
    "def logistic(x):\n",
    "    return 1 / (1 + np.exp(-x))"
   ]
  },
  {
   "cell_type": "code",
   "execution_count": 112,
   "metadata": {},
   "outputs": [
    {
     "name": "stdout",
     "output_type": "stream",
     "text": [
      "Estimated Probability: 0.021192150189763868\n"
     ]
    }
   ],
   "source": [
    "jobs = 2\n",
    "\n",
    "logit_p = model.params['Intercept'] + model.params['completed_jobs']*jobs\n",
    "\n",
    "print(f'Estimated Probability: {logistic(logit_p)}')"
   ]
  },
  {
   "cell_type": "code",
   "execution_count": null,
   "metadata": {},
   "outputs": [],
   "source": []
  },
  {
   "cell_type": "code",
   "execution_count": 115,
   "metadata": {},
   "outputs": [
    {
     "name": "stdout",
     "output_type": "stream",
     "text": [
      "Optimization terminated successfully.\n",
      "         Current function value: 0.102205\n",
      "         Iterations 8\n",
      "Optimization terminated successfully.\n",
      "         Current function value: 0.693147\n",
      "         Iterations 1\n"
     ]
    }
   ],
   "source": [
    "slim_model = smf.logit('FAILED ~ 1', data = reg_df).fit()\n",
    "full_model = smf.logit('FAILED ~ slurm_crashes + completed_jobs', data = reg_df).fit()"
   ]
  },
  {
   "cell_type": "code",
   "execution_count": 117,
   "metadata": {},
   "outputs": [
    {
     "data": {
      "text/plain": [
       "15788.218503282409"
      ]
     },
     "execution_count": 117,
     "metadata": {},
     "output_type": "execute_result"
    }
   ],
   "source": [
    "G2 = -2 * (slim_model.llf - full_model.llf)\n",
    "G2"
   ]
  },
  {
   "cell_type": "code",
   "execution_count": 119,
   "metadata": {},
   "outputs": [
    {
     "data": {
      "text/plain": [
       "2.0"
      ]
     },
     "execution_count": 119,
     "metadata": {},
     "output_type": "execute_result"
    }
   ],
   "source": [
    "df3 = full_model.df_model - slim_model.df_model\n",
    "df3"
   ]
  },
  {
   "cell_type": "code",
   "execution_count": 121,
   "metadata": {},
   "outputs": [
    {
     "data": {
      "text/plain": [
       "0.0"
      ]
     },
     "execution_count": 121,
     "metadata": {},
     "output_type": "execute_result"
    }
   ],
   "source": [
    "p = chi2.sf(G2, df = df3)\n",
    "p"
   ]
  },
  {
   "cell_type": "code",
   "execution_count": 123,
   "metadata": {},
   "outputs": [],
   "source": [
    "lm = smf.ols('completed_jobs ~ slurm_crashes', data = reg_df).fit()"
   ]
  },
  {
   "cell_type": "code",
   "execution_count": 147,
   "metadata": {},
   "outputs": [
    {
     "data": {
      "text/plain": [
       "4.214552956404816"
      ]
     },
     "execution_count": 147,
     "metadata": {},
     "output_type": "execute_result"
    }
   ],
   "source": [
    "jobs = 12\n",
    "\n",
    "lm.params['Intercept'] + lm.params['slurm_crashes'] * jobs"
   ]
  },
  {
   "cell_type": "code",
   "execution_count": 129,
   "metadata": {},
   "outputs": [],
   "source": [
    "reg_df['rolling'] = reg_df.rolling(7)['slurm_crashes'].sum()"
   ]
  },
  {
   "cell_type": "code",
   "execution_count": 137,
   "metadata": {},
   "outputs": [
    {
     "data": {
      "text/html": [
       "<div>\n",
       "<style scoped>\n",
       "    .dataframe tbody tr th:only-of-type {\n",
       "        vertical-align: middle;\n",
       "    }\n",
       "\n",
       "    .dataframe tbody tr th {\n",
       "        vertical-align: top;\n",
       "    }\n",
       "\n",
       "    .dataframe thead th {\n",
       "        text-align: right;\n",
       "    }\n",
       "</style>\n",
       "<table border=\"1\" class=\"dataframe\">\n",
       "  <thead>\n",
       "    <tr style=\"text-align: right;\">\n",
       "      <th></th>\n",
       "      <th>FAILED</th>\n",
       "      <th>slurm_crashes</th>\n",
       "      <th>completed_jobs</th>\n",
       "      <th>rolling</th>\n",
       "      <th>gage_shifted</th>\n",
       "    </tr>\n",
       "    <tr>\n",
       "      <th>END</th>\n",
       "      <th></th>\n",
       "      <th></th>\n",
       "      <th></th>\n",
       "      <th></th>\n",
       "      <th></th>\n",
       "    </tr>\n",
       "  </thead>\n",
       "  <tbody>\n",
       "    <tr>\n",
       "      <th>2020-10-01 00:10:00</th>\n",
       "      <td>0</td>\n",
       "      <td>NaN</td>\n",
       "      <td>3.00</td>\n",
       "      <td>NaN</td>\n",
       "      <td>NaN</td>\n",
       "    </tr>\n",
       "    <tr>\n",
       "      <th>2020-10-01 00:15:00</th>\n",
       "      <td>0</td>\n",
       "      <td>NaN</td>\n",
       "      <td>3.00</td>\n",
       "      <td>NaN</td>\n",
       "      <td>3.00</td>\n",
       "    </tr>\n",
       "    <tr>\n",
       "      <th>2020-10-01 00:20:00</th>\n",
       "      <td>0</td>\n",
       "      <td>NaN</td>\n",
       "      <td>9.00</td>\n",
       "      <td>NaN</td>\n",
       "      <td>3.00</td>\n",
       "    </tr>\n",
       "    <tr>\n",
       "      <th>2020-10-01 00:25:00</th>\n",
       "      <td>0</td>\n",
       "      <td>NaN</td>\n",
       "      <td>18.00</td>\n",
       "      <td>NaN</td>\n",
       "      <td>9.00</td>\n",
       "    </tr>\n",
       "    <tr>\n",
       "      <th>2020-10-01 00:30:00</th>\n",
       "      <td>0</td>\n",
       "      <td>NaN</td>\n",
       "      <td>11.00</td>\n",
       "      <td>NaN</td>\n",
       "      <td>18.00</td>\n",
       "    </tr>\n",
       "  </tbody>\n",
       "</table>\n",
       "</div>"
      ],
      "text/plain": [
       "                     FAILED  slurm_crashes  completed_jobs  rolling  \\\n",
       "END                                                                   \n",
       "2020-10-01 00:10:00       0            NaN            3.00      NaN   \n",
       "2020-10-01 00:15:00       0            NaN            3.00      NaN   \n",
       "2020-10-01 00:20:00       0            NaN            9.00      NaN   \n",
       "2020-10-01 00:25:00       0            NaN           18.00      NaN   \n",
       "2020-10-01 00:30:00       0            NaN           11.00      NaN   \n",
       "\n",
       "                     gage_shifted  \n",
       "END                                \n",
       "2020-10-01 00:10:00           NaN  \n",
       "2020-10-01 00:15:00          3.00  \n",
       "2020-10-01 00:20:00          3.00  \n",
       "2020-10-01 00:25:00          9.00  \n",
       "2020-10-01 00:30:00         18.00  "
      ]
     },
     "execution_count": 137,
     "metadata": {},
     "output_type": "execute_result"
    }
   ],
   "source": [
    "reg_df.head()"
   ]
  },
  {
   "cell_type": "code",
   "execution_count": 133,
   "metadata": {},
   "outputs": [],
   "source": [
    "new_lm = smf.ols('completed_jobs ~ rolling', data = reg_df).fit()"
   ]
  },
  {
   "cell_type": "code",
   "execution_count": 135,
   "metadata": {},
   "outputs": [],
   "source": [
    "reg_df['gage_shifted'] = reg_df['completed_jobs'].shift(periods = 1)"
   ]
  },
  {
   "cell_type": "code",
   "execution_count": 141,
   "metadata": {},
   "outputs": [],
   "source": [
    "shift_lm = smf.ols('completed_jobs ~ gage_shifted', data = reg_df).fit()"
   ]
  },
  {
   "cell_type": "code",
   "execution_count": 145,
   "metadata": {},
   "outputs": [
    {
     "data": {
      "text/plain": [
       "25.564506569641804"
      ]
     },
     "execution_count": 145,
     "metadata": {},
     "output_type": "execute_result"
    }
   ],
   "source": [
    "jobs = 12\n",
    "\n",
    "shift_lm.params['Intercept'] + shift_lm.params['gage_shifted'] * jobs"
   ]
  },
  {
   "cell_type": "code",
   "execution_count": 149,
   "metadata": {},
   "outputs": [
    {
     "data": {
      "text/html": [
       "<div>\n",
       "<style scoped>\n",
       "    .dataframe tbody tr th:only-of-type {\n",
       "        vertical-align: middle;\n",
       "    }\n",
       "\n",
       "    .dataframe tbody tr th {\n",
       "        vertical-align: top;\n",
       "    }\n",
       "\n",
       "    .dataframe thead th {\n",
       "        text-align: right;\n",
       "    }\n",
       "</style>\n",
       "<table border=\"1\" class=\"dataframe\">\n",
       "  <thead>\n",
       "    <tr style=\"text-align: right;\">\n",
       "      <th></th>\n",
       "      <th>df</th>\n",
       "      <th>sum_sq</th>\n",
       "      <th>mean_sq</th>\n",
       "      <th>F</th>\n",
       "      <th>PR(&gt;F)</th>\n",
       "    </tr>\n",
       "  </thead>\n",
       "  <tbody>\n",
       "    <tr>\n",
       "      <th>slurm_crashes</th>\n",
       "      <td>1.00</td>\n",
       "      <td>144220.45</td>\n",
       "      <td>144220.45</td>\n",
       "      <td>11.06</td>\n",
       "      <td>0.00</td>\n",
       "    </tr>\n",
       "    <tr>\n",
       "      <th>Residual</th>\n",
       "      <td>4496.00</td>\n",
       "      <td>58608747.56</td>\n",
       "      <td>13035.75</td>\n",
       "      <td>NaN</td>\n",
       "      <td>NaN</td>\n",
       "    </tr>\n",
       "  </tbody>\n",
       "</table>\n",
       "</div>"
      ],
      "text/plain": [
       "                   df      sum_sq   mean_sq     F  PR(>F)\n",
       "slurm_crashes    1.00   144220.45 144220.45 11.06    0.00\n",
       "Residual      4496.00 58608747.56  13035.75   NaN     NaN"
      ]
     },
     "execution_count": 149,
     "metadata": {},
     "output_type": "execute_result"
    }
   ],
   "source": [
    "sm.stats.anova_lm(lm)"
   ]
  },
  {
   "cell_type": "code",
   "execution_count": 161,
   "metadata": {},
   "outputs": [
    {
     "data": {
      "text/plain": [
       "[<matplotlib.lines.Line2D at 0x24a9e024380>]"
      ]
     },
     "execution_count": 161,
     "metadata": {},
     "output_type": "execute_result"
    },
    {
     "data": {
      "image/png": "[encoded data removed]",
      "text/plain": [
       "<Figure size 640x480 with 1 Axes>"
      ]
     },
     "metadata": {},
     "output_type": "display_data"
    }
   ],
   "source": [
    "filtered_reg_df = reg_df.iloc[:len(lm.fittedvalues)]\n",
    "\n",
    "filtered_reg_df.plot(x='slurm_crashes', y='completed_jobs', kind='scatter')\n",
    "plt.plot(filtered_reg_df['slurm_crashes'], lm.fittedvalues, color='black')"
   ]
  },
  {
   "cell_type": "code",
   "execution_count": null,
   "metadata": {},
   "outputs": [],
   "source": []
  }
 ],
 "metadata": {
  "kernelspec": {
   "display_name": "Python 3 (ipykernel)",
   "language": "python",
   "name": "python3"
  },
  "language_info": {
   "codemirror_mode": {
    "name": "ipython",
    "version": 3
   },
   "file_extension": ".py",
   "mimetype": "text/x-python",
   "name": "python",
   "nbconvert_exporter": "python",
   "pygments_lexer": "ipython3",
   "version": "3.12.4"
  }
 },
 "nbformat": 4,
 "nbformat_minor": 4
}
