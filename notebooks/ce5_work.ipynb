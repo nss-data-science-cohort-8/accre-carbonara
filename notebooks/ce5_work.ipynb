{
 "cells": [
  {
   "cell_type": "code",
   "execution_count": null,
   "metadata": {},
   "outputs": [],
   "source": [
    "import pandas as pd\n",
    "from datetime import datetime as dt\n",
    "import numpy as np"
   ]
  },
  {
   "cell_type": "code",
   "execution_count": null,
   "metadata": {},
   "outputs": [],
   "source": [
    "# read in dataset \n",
    "ce5 = pd.read_csv('../data/slurm_wrapper_ce5.log',\n",
    "                  header=None,\n",
    "                  delimiter=' - ',\n",
    "                  engine='python',\n",
    "                  nrows=10000\n",
    "                  )"
   ]
  },
  {
   "cell_type": "code",
   "execution_count": null,
   "metadata": {},
   "outputs": [
    {
     "data": {
      "text/html": [
       "<div>\n",
       "<style scoped>\n",
       "    .dataframe tbody tr th:only-of-type {\n",
       "        vertical-align: middle;\n",
       "    }\n",
       "\n",
       "    .dataframe tbody tr th {\n",
       "        vertical-align: top;\n",
       "    }\n",
       "\n",
       "    .dataframe thead th {\n",
       "        text-align: right;\n",
       "    }\n",
       "</style>\n",
       "<table border=\"1\" class=\"dataframe\">\n",
       "  <thead>\n",
       "    <tr style=\"text-align: right;\">\n",
       "      <th></th>\n",
       "      <th>END</th>\n",
       "      <th>USER</th>\n",
       "      <th>RETRY</th>\n",
       "      <th>TIME</th>\n",
       "      <th>RETURNCODE</th>\n",
       "      <th>COMMAND</th>\n",
       "    </tr>\n",
       "  </thead>\n",
       "  <tbody>\n",
       "    <tr>\n",
       "      <th>0</th>\n",
       "      <td>2020-10-16 08:15:39.278699</td>\n",
       "      <td>0</td>\n",
       "      <td>0</td>\n",
       "      <td>0.073476</td>\n",
       "      <td>0.0</td>\n",
       "      <td>['/usr/bin/sacct', '-u', 'appelte1', '-S', '2...</td>\n",
       "    </tr>\n",
       "    <tr>\n",
       "      <th>1</th>\n",
       "      <td>2020-10-16 08:18:08.313309</td>\n",
       "      <td>0</td>\n",
       "      <td>0</td>\n",
       "      <td>0.183632</td>\n",
       "      <td>0.0</td>\n",
       "      <td>['/usr/bin/sacct', '-u', 'appelte1', '-S', '2...</td>\n",
       "    </tr>\n",
       "    <tr>\n",
       "      <th>2</th>\n",
       "      <td>2020-10-16 08:22:48.128689</td>\n",
       "      <td>0</td>\n",
       "      <td>0</td>\n",
       "      <td>0.075471</td>\n",
       "      <td>0.0</td>\n",
       "      <td>['/usr/bin/sacct', '-u', 'appelte1', '-S', '2...</td>\n",
       "    </tr>\n",
       "    <tr>\n",
       "      <th>3</th>\n",
       "      <td>2020-10-16 08:25:13.257408</td>\n",
       "      <td>0</td>\n",
       "      <td>0</td>\n",
       "      <td>0.094844</td>\n",
       "      <td>0.0</td>\n",
       "      <td>['/usr/bin/sacct', '-u', 'appelte1', '-S', '2...</td>\n",
       "    </tr>\n",
       "    <tr>\n",
       "      <th>4</th>\n",
       "      <td>2020-10-16 08:31:01.460723</td>\n",
       "      <td>0</td>\n",
       "      <td>0</td>\n",
       "      <td>0.074988</td>\n",
       "      <td>0.0</td>\n",
       "      <td>['/usr/bin/sacct', '-u', 'appelte1', '-S', '2...</td>\n",
       "    </tr>\n",
       "  </tbody>\n",
       "</table>\n",
       "</div>"
      ],
      "text/plain": [
       "                         END  USER  RETRY      TIME  RETURNCODE  \\\n",
       "0 2020-10-16 08:15:39.278699     0      0  0.073476         0.0   \n",
       "1 2020-10-16 08:18:08.313309     0      0  0.183632         0.0   \n",
       "2 2020-10-16 08:22:48.128689     0      0  0.075471         0.0   \n",
       "3 2020-10-16 08:25:13.257408     0      0  0.094844         0.0   \n",
       "4 2020-10-16 08:31:01.460723     0      0  0.074988         0.0   \n",
       "\n",
       "                                             COMMAND  \n",
       "0   ['/usr/bin/sacct', '-u', 'appelte1', '-S', '2...  \n",
       "1   ['/usr/bin/sacct', '-u', 'appelte1', '-S', '2...  \n",
       "2   ['/usr/bin/sacct', '-u', 'appelte1', '-S', '2...  \n",
       "3   ['/usr/bin/sacct', '-u', 'appelte1', '-S', '2...  \n",
       "4   ['/usr/bin/sacct', '-u', 'appelte1', '-S', '2...  "
      ]
     },
     "execution_count": 3,
     "metadata": {},
     "output_type": "execute_result"
    }
   ],
   "source": [
    "# set column names\n",
    "colnames = ['END', 'USER', 'RETRY', 'TIME', 'RETURNCODE', 'COMMAND']\n",
    "ce5.columns = colnames\n",
    "\n",
    "from carb_funcs import optional_ms\n",
    "\n",
    "# Apply the parsing function to the 'END' column\n",
    "ce5['END'] = optional_ms(ce5['END'])\n",
    "\n",
    "# Clean and convert other columns\n",
    "ce5['TIME'] = ce5['TIME'].str.replace('time', '', regex=False).astype(float)\n",
    "ce5['USER'] = ce5['USER'].str.replace('user', '', regex=False).astype(int)\n",
    "ce5['RETRY'] = ce5['RETRY'].str.replace('retry', '', regex=False).astype(int)\n",
    "ce5['RETURNCODE'] = ce5['RETURNCODE'].str.replace('returncode', '', regex=False).astype(float)\n",
    "ce5['COMMAND'] = ce5['COMMAND'].str.replace('command', '', regex=False)\n",
    "\n",
    "# Display the updated DataFrame\n",
    "ce5.head(2)"
   ]
  },
  {
   "cell_type": "code",
   "execution_count": null,
   "metadata": {},
   "outputs": [
    {
     "name": "stdout",
     "output_type": "stream",
     "text": [
      "2020-10-16 16:45:41.462546\n"
     ]
    }
   ],
   "source": [
    "# checking that all values contain timestamps\n",
    "print(ce5['END'].sort_values().iloc[-1])"
   ]
  },
  {
   "cell_type": "code",
   "execution_count": 7,
   "metadata": {},
   "outputs": [
    {
     "data": {
      "text/plain": [
       "\" ['/usr/bin/sacct', '-u', 'appelte1', '-S', '2020-10-10']\""
      ]
     },
     "execution_count": 7,
     "metadata": {},
     "output_type": "execute_result"
    }
   ],
   "source": [
    "ce5['COMMAND'][0]"
   ]
  }
 ],
 "metadata": {
  "kernelspec": {
   "display_name": "base",
   "language": "python",
   "name": "python3"
  },
  "language_info": {
   "codemirror_mode": {
    "name": "ipython",
    "version": 3
   },
   "file_extension": ".py",
   "mimetype": "text/x-python",
   "name": "python",
   "nbconvert_exporter": "python",
   "pygments_lexer": "ipython3",
   "version": "3.12.4"
  }
 },
 "nbformat": 4,
 "nbformat_minor": 2
}
