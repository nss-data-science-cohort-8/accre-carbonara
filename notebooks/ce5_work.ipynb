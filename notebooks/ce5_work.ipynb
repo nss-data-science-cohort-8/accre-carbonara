{
 "cells": [
  {
   "cell_type": "code",
   "execution_count": 1,
   "metadata": {},
   "outputs": [],
   "source": [
    "import pandas as pd\n",
    "from datetime import datetime as dt\n",
    "import numpy as np"
   ]
  },
  {
   "cell_type": "code",
   "execution_count": 2,
   "metadata": {},
   "outputs": [],
   "source": [
    "# read in dataset \n",
    "ce5 = pd.read_csv('../data/slurm_wrapper_ce5.log',\n",
    "                  header=None,\n",
    "                  delimiter=' - ',\n",
    "                  engine='python',\n",
    "                #   nrows=10000\n",
    "                  )"
   ]
  },
  {
   "cell_type": "code",
   "execution_count": 3,
   "metadata": {},
   "outputs": [
    {
     "data": {
      "text/html": [
       "<div>\n",
       "<style scoped>\n",
       "    .dataframe tbody tr th:only-of-type {\n",
       "        vertical-align: middle;\n",
       "    }\n",
       "\n",
       "    .dataframe tbody tr th {\n",
       "        vertical-align: top;\n",
       "    }\n",
       "\n",
       "    .dataframe thead th {\n",
       "        text-align: right;\n",
       "    }\n",
       "</style>\n",
       "<table border=\"1\" class=\"dataframe\">\n",
       "  <thead>\n",
       "    <tr style=\"text-align: right;\">\n",
       "      <th></th>\n",
       "      <th>END</th>\n",
       "      <th>USER</th>\n",
       "      <th>RETRY</th>\n",
       "      <th>TIME</th>\n",
       "      <th>RETURNCODE</th>\n",
       "      <th>COMMAND</th>\n",
       "    </tr>\n",
       "  </thead>\n",
       "  <tbody>\n",
       "    <tr>\n",
       "      <th>0</th>\n",
       "      <td>2020-10-16 08:15:39.278699</td>\n",
       "      <td>0</td>\n",
       "      <td>0</td>\n",
       "      <td>0.073476</td>\n",
       "      <td>0.0</td>\n",
       "      <td>['/usr/bin/sacct', '-u', 'appelte1', '-S', '2...</td>\n",
       "    </tr>\n",
       "    <tr>\n",
       "      <th>1</th>\n",
       "      <td>2020-10-16 08:18:08.313309</td>\n",
       "      <td>0</td>\n",
       "      <td>0</td>\n",
       "      <td>0.183632</td>\n",
       "      <td>0.0</td>\n",
       "      <td>['/usr/bin/sacct', '-u', 'appelte1', '-S', '2...</td>\n",
       "    </tr>\n",
       "  </tbody>\n",
       "</table>\n",
       "</div>"
      ],
      "text/plain": [
       "                         END  USER  RETRY      TIME  RETURNCODE  \\\n",
       "0 2020-10-16 08:15:39.278699     0      0  0.073476         0.0   \n",
       "1 2020-10-16 08:18:08.313309     0      0  0.183632         0.0   \n",
       "\n",
       "                                             COMMAND  \n",
       "0   ['/usr/bin/sacct', '-u', 'appelte1', '-S', '2...  \n",
       "1   ['/usr/bin/sacct', '-u', 'appelte1', '-S', '2...  "
      ]
     },
     "execution_count": 3,
     "metadata": {},
     "output_type": "execute_result"
    }
   ],
   "source": [
    "# set column names\n",
    "colnames = ['END', 'USER', 'RETRY', 'TIME', 'RETURNCODE', 'COMMAND']\n",
    "ce5.columns = colnames\n",
    "\n",
    "from carb_funcs import optional_ms\n",
    "\n",
    "# Apply the parsing function to the 'END' column\n",
    "ce5['END'] = optional_ms(ce5['END'])\n",
    "\n",
    "# Clean and convert other columns\n",
    "ce5['TIME'] = ce5['TIME'].str.replace('time', '', regex=False).astype(float)\n",
    "ce5['USER'] = ce5['USER'].str.replace('user', '', regex=False).astype(int)\n",
    "ce5['RETRY'] = ce5['RETRY'].str.replace('retry', '', regex=False).astype(int)\n",
    "ce5['RETURNCODE'] = ce5['RETURNCODE'].str.replace('returncode', '', regex=False).astype(float)\n",
    "ce5['COMMAND'] = ce5['COMMAND'].str.replace('command', '', regex=False)\n",
    "\n",
    "# Display the updated DataFrame\n",
    "ce5.head(2)"
   ]
  },
  {
   "cell_type": "code",
   "execution_count": 4,
   "metadata": {},
   "outputs": [
    {
     "name": "stdout",
     "output_type": "stream",
     "text": [
      "2021-10-07 21:59:17.693458\n"
     ]
    }
   ],
   "source": [
    "# checking that all values contain timestamps\n",
    "print(ce5['END'].sort_values().iloc[-1])"
   ]
  },
  {
   "cell_type": "markdown",
   "metadata": {},
   "source": [
    "To identify periods of unresponsiveness, use the two log files. Look for records that are the \"sbatch\" command from user 9204 (the test user) that have return code 1 and an execution time of greater than 15 seconds."
   ]
  },
  {
   "cell_type": "code",
   "execution_count": 8,
   "metadata": {},
   "outputs": [
    {
     "data": {
      "text/html": [
       "<div>\n",
       "<style scoped>\n",
       "    .dataframe tbody tr th:only-of-type {\n",
       "        vertical-align: middle;\n",
       "    }\n",
       "\n",
       "    .dataframe tbody tr th {\n",
       "        vertical-align: top;\n",
       "    }\n",
       "\n",
       "    .dataframe thead th {\n",
       "        text-align: right;\n",
       "    }\n",
       "</style>\n",
       "<table border=\"1\" class=\"dataframe\">\n",
       "  <thead>\n",
       "    <tr style=\"text-align: right;\">\n",
       "      <th></th>\n",
       "      <th>END</th>\n",
       "      <th>USER</th>\n",
       "      <th>RETRY</th>\n",
       "      <th>TIME</th>\n",
       "      <th>RETURNCODE</th>\n",
       "      <th>COMMAND</th>\n",
       "    </tr>\n",
       "  </thead>\n",
       "  <tbody>\n",
       "    <tr>\n",
       "      <th>16527</th>\n",
       "      <td>2020-10-16 22:25:53.354082</td>\n",
       "      <td>9204</td>\n",
       "      <td>0</td>\n",
       "      <td>20.038583</td>\n",
       "      <td>1.0</td>\n",
       "      <td>['/usr/bin/scontrol', 'show', 'job']</td>\n",
       "    </tr>\n",
       "    <tr>\n",
       "      <th>16788</th>\n",
       "      <td>2020-10-16 22:31:02.582338</td>\n",
       "      <td>9204</td>\n",
       "      <td>0</td>\n",
       "      <td>20.164101</td>\n",
       "      <td>1.0</td>\n",
       "      <td>['/usr/bin/scontrol', 'show', 'job', '25014707']</td>\n",
       "    </tr>\n",
       "    <tr>\n",
       "      <th>16790</th>\n",
       "      <td>2020-10-16 22:31:22.609136</td>\n",
       "      <td>9204</td>\n",
       "      <td>1</td>\n",
       "      <td>20.026260</td>\n",
       "      <td>1.0</td>\n",
       "      <td>['/usr/bin/scontrol', 'show', 'job', '25014707']</td>\n",
       "    </tr>\n",
       "  </tbody>\n",
       "</table>\n",
       "</div>"
      ],
      "text/plain": [
       "                             END  USER  RETRY       TIME  RETURNCODE  \\\n",
       "16527 2020-10-16 22:25:53.354082  9204      0  20.038583         1.0   \n",
       "16788 2020-10-16 22:31:02.582338  9204      0  20.164101         1.0   \n",
       "16790 2020-10-16 22:31:22.609136  9204      1  20.026260         1.0   \n",
       "\n",
       "                                                 COMMAND  \n",
       "16527               ['/usr/bin/scontrol', 'show', 'job']  \n",
       "16788   ['/usr/bin/scontrol', 'show', 'job', '25014707']  \n",
       "16790   ['/usr/bin/scontrol', 'show', 'job', '25014707']  "
      ]
     },
     "metadata": {},
     "output_type": "display_data"
    },
    {
     "name": "stdout",
     "output_type": "stream",
     "text": [
      "<class 'pandas.core.frame.DataFrame'>\n",
      "Index: 5548 entries, 16527 to 4731181\n",
      "Data columns (total 6 columns):\n",
      " #   Column      Non-Null Count  Dtype         \n",
      "---  ------      --------------  -----         \n",
      " 0   END         5548 non-null   datetime64[ns]\n",
      " 1   USER        5548 non-null   int64         \n",
      " 2   RETRY       5548 non-null   int64         \n",
      " 3   TIME        5548 non-null   float64       \n",
      " 4   RETURNCODE  5548 non-null   float64       \n",
      " 5   COMMAND     5548 non-null   object        \n",
      "dtypes: datetime64[ns](1), float64(2), int64(2), object(1)\n",
      "memory usage: 303.4+ KB\n",
      "None (5548, 6)\n"
     ]
    }
   ],
   "source": [
    "# slicing out the records that satisfy unresponsive conditions outlined. \n",
    "ce5_unresponsive_df = ce5[(ce5['USER'] == 9204) & (ce5['RETURNCODE'] == 1.0) & (ce5['TIME'] > 15)]\n",
    "display(ce5_unresponsive_df.head(3))\n",
    "print(ce5_unresponsive_df.info(), ce5_unresponsive_df.shape)"
   ]
  }
 ],
 "metadata": {
  "kernelspec": {
   "display_name": "base",
   "language": "python",
   "name": "python3"
  },
  "language_info": {
   "codemirror_mode": {
    "name": "ipython",
    "version": 3
   },
   "file_extension": ".py",
   "mimetype": "text/x-python",
   "name": "python",
   "nbconvert_exporter": "python",
   "pygments_lexer": "ipython3",
   "version": "3.12.4"
  }
 },
 "nbformat": 4,
 "nbformat_minor": 2
}
