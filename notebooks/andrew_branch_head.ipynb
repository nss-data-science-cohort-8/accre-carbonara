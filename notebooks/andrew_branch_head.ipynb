{
 "cells": [
  {
   "cell_type": "code",
   "execution_count": 1,
   "metadata": {},
   "outputs": [],
   "source": [
    "import pandas as pd\n",
    "from datetime import datetime as dt\n",
    "import numpy as np"
   ]
  },
  {
   "cell_type": "code",
   "execution_count": 2,
   "metadata": {},
   "outputs": [],
   "source": [
    "ce5 = pd.read_csv('../data/slurm_wrapper_ce5.log',\n",
    "                  header=None,\n",
    "                  delimiter=' - ',\n",
    "                  engine='python',\n",
    "                  # nrows=100000\n",
    "                  )"
   ]
  },
  {
   "cell_type": "code",
   "execution_count": 3,
   "metadata": {},
   "outputs": [
    {
     "data": {
      "text/html": [
       "<div>\n",
       "<style scoped>\n",
       "    .dataframe tbody tr th:only-of-type {\n",
       "        vertical-align: middle;\n",
       "    }\n",
       "\n",
       "    .dataframe tbody tr th {\n",
       "        vertical-align: top;\n",
       "    }\n",
       "\n",
       "    .dataframe thead th {\n",
       "        text-align: right;\n",
       "    }\n",
       "</style>\n",
       "<table border=\"1\" class=\"dataframe\">\n",
       "  <thead>\n",
       "    <tr style=\"text-align: right;\">\n",
       "      <th></th>\n",
       "      <th>END</th>\n",
       "      <th>USER</th>\n",
       "      <th>RETRY</th>\n",
       "      <th>TIME</th>\n",
       "      <th>RETURNCODE</th>\n",
       "      <th>COMMAND</th>\n",
       "    </tr>\n",
       "  </thead>\n",
       "  <tbody>\n",
       "    <tr>\n",
       "      <th>0</th>\n",
       "      <td>2020-10-16 08:15:39.278699</td>\n",
       "      <td>0</td>\n",
       "      <td>0</td>\n",
       "      <td>0.073476</td>\n",
       "      <td>0.0</td>\n",
       "      <td>['/usr/bin/sacct', '-u', 'appelte1', '-S', '2...</td>\n",
       "    </tr>\n",
       "    <tr>\n",
       "      <th>1</th>\n",
       "      <td>2020-10-16 08:18:08.313309</td>\n",
       "      <td>0</td>\n",
       "      <td>0</td>\n",
       "      <td>0.183632</td>\n",
       "      <td>0.0</td>\n",
       "      <td>['/usr/bin/sacct', '-u', 'appelte1', '-S', '2...</td>\n",
       "    </tr>\n",
       "    <tr>\n",
       "      <th>2</th>\n",
       "      <td>2020-10-16 08:22:48.128689</td>\n",
       "      <td>0</td>\n",
       "      <td>0</td>\n",
       "      <td>0.075471</td>\n",
       "      <td>0.0</td>\n",
       "      <td>['/usr/bin/sacct', '-u', 'appelte1', '-S', '2...</td>\n",
       "    </tr>\n",
       "    <tr>\n",
       "      <th>3</th>\n",
       "      <td>2020-10-16 08:25:13.257408</td>\n",
       "      <td>0</td>\n",
       "      <td>0</td>\n",
       "      <td>0.094844</td>\n",
       "      <td>0.0</td>\n",
       "      <td>['/usr/bin/sacct', '-u', 'appelte1', '-S', '2...</td>\n",
       "    </tr>\n",
       "    <tr>\n",
       "      <th>4</th>\n",
       "      <td>2020-10-16 08:31:01.460723</td>\n",
       "      <td>0</td>\n",
       "      <td>0</td>\n",
       "      <td>0.074988</td>\n",
       "      <td>0.0</td>\n",
       "      <td>['/usr/bin/sacct', '-u', 'appelte1', '-S', '2...</td>\n",
       "    </tr>\n",
       "  </tbody>\n",
       "</table>\n",
       "</div>"
      ],
      "text/plain": [
       "                         END  USER  RETRY      TIME  RETURNCODE  \\\n",
       "0 2020-10-16 08:15:39.278699     0      0  0.073476         0.0   \n",
       "1 2020-10-16 08:18:08.313309     0      0  0.183632         0.0   \n",
       "2 2020-10-16 08:22:48.128689     0      0  0.075471         0.0   \n",
       "3 2020-10-16 08:25:13.257408     0      0  0.094844         0.0   \n",
       "4 2020-10-16 08:31:01.460723     0      0  0.074988         0.0   \n",
       "\n",
       "                                             COMMAND  \n",
       "0   ['/usr/bin/sacct', '-u', 'appelte1', '-S', '2...  \n",
       "1   ['/usr/bin/sacct', '-u', 'appelte1', '-S', '2...  \n",
       "2   ['/usr/bin/sacct', '-u', 'appelte1', '-S', '2...  \n",
       "3   ['/usr/bin/sacct', '-u', 'appelte1', '-S', '2...  \n",
       "4   ['/usr/bin/sacct', '-u', 'appelte1', '-S', '2...  "
      ]
     },
     "execution_count": 3,
     "metadata": {},
     "output_type": "execute_result"
    }
   ],
   "source": [
    "# set column names\n",
    "colnames = ['END', 'USER', 'RETRY', 'TIME', 'RETURNCODE', 'COMMAND']\n",
    "ce5.columns = colnames\n",
    "\n",
    "# Parse 'END' column with optional milliseconds\n",
    "# ce5['END'] = pd.to_datetime(ce5['END'], format='%Y-%m-%d %H:%M:%S.%f', errors='coerce') # don't like coercing errors\n",
    "# ce5['END'] = [dt.strptime(row + ('.000000' if '.' not in row else ''), '%Y-%m-%d %H:%M:%S.%f') for row in ce5['END']] # works, but not as efficient\n",
    "\n",
    "from carb_funcs import optional_ms\n",
    "# Apply the parsing function to the 'END' column\n",
    "ce5['END'] = optional_ms(ce5['END'])\n",
    "\n",
    "# Clean and convert other columns\n",
    "ce5['TIME'] = ce5['TIME'].str.replace('time', '', regex=False).astype(float)\n",
    "ce5['USER'] = ce5['USER'].str.replace('user', '', regex=False).astype(int)\n",
    "ce5['RETRY'] = ce5['RETRY'].str.replace('retry', '', regex=False).astype(int)\n",
    "ce5['RETURNCODE'] = ce5['RETURNCODE'].str.replace('returncode', '', regex=False).astype(float)\n",
    "ce5['COMMAND'] = ce5['COMMAND'].str.replace('command', '', regex=False)\n",
    "\n",
    "# Display the updated DataFrame\n",
    "ce5.head()"
   ]
  },
  {
   "cell_type": "code",
   "execution_count": 10,
   "metadata": {},
   "outputs": [
    {
     "name": "stdout",
     "output_type": "stream",
     "text": [
      "2021-10-07 21:59:17.693458\n"
     ]
    }
   ],
   "source": [
    "print(ce5['END'].sort_values().iloc[-1])"
   ]
  },
  {
   "cell_type": "code",
   "execution_count": 5,
   "metadata": {},
   "outputs": [],
   "source": [
    "# ce6 = pd.read_csv('../data/slurm_wrapper_ce6.log',\n",
    "#                   header=None,\n",
    "#                   delimiter=' - ',\n",
    "#                   engine='python',\n",
    "#                   nrows=100)"
   ]
  },
  {
   "cell_type": "code",
   "execution_count": 6,
   "metadata": {},
   "outputs": [],
   "source": [
    "# ce6.columns=colnames\n",
    "# ce6['TIME'] = [float(re.sub(r'time', '', row)) for row in ce6['TIME']]\n",
    "# ce6['USER'] = [float(re.sub(r'user', '', row)) for row in ce6['USER']]\n",
    "# ce6['RETRY'] = [float(re.sub(r'retry', '', row)) for row in ce6['RETRY']]\n",
    "# ce6['RETURNCODE'] = [float(re.sub(r'returncode', '', row)) for row in ce6['RETURNCODE']]\n",
    "# ce6['COMMAND'] = [re.sub(r'command', '', row) for row in ce6['COMMAND']]\n",
    "# ce6.head()"
   ]
  }
 ],
 "metadata": {
  "kernelspec": {
   "display_name": "base",
   "language": "python",
   "name": "python3"
  },
  "language_info": {
   "codemirror_mode": {
    "name": "ipython",
    "version": 3
   },
   "file_extension": ".py",
   "mimetype": "text/x-python",
   "name": "python",
   "nbconvert_exporter": "python",
   "pygments_lexer": "ipython3",
   "version": "3.12.4"
  }
 },
 "nbformat": 4,
 "nbformat_minor": 2
}
