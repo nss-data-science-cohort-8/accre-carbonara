{
 "cells": [
  {
   "cell_type": "code",
   "execution_count": 1,
   "metadata": {},
   "outputs": [],
   "source": [
    "import pandas as pd\n",
    "from datetime import datetime as dt\n",
    "import re\n",
    "import numpy as np\n",
    "import matplotlib.pyplot as plt\n",
    "import seaborn as sns\n",
    "import os"
   ]
  },
  {
   "cell_type": "code",
   "execution_count": 2,
   "metadata": {},
   "outputs": [
    {
     "name": "stdout",
     "output_type": "stream",
     "text": [
      "Current working directory is /Users/drewrichard/Documents/1 projects/nss/nss_projects/accre-carbonara/notebooks\n"
     ]
    }
   ],
   "source": [
    "print(f'Current working directory is {os.getcwd()}')"
   ]
  },
  {
   "cell_type": "code",
   "execution_count": 21,
   "metadata": {},
   "outputs": [],
   "source": [
    "# jobs = pd.read_csv(\"../data/complete.csv\")\n",
    "jobs = pd.read_csv(\"../data/fullsample.csv\",\n",
    "                    #nrows = 100000\n",
    "                    )\n",
    "ce5 = pd.read_csv('../data/ce5_unresponsive.csv')\n",
    "ce6 = pd.read_csv('../data/ce6_unresponsive.csv')\n",
    "jobs = jobs[jobs['END'] != 'Unknown']"
   ]
  },
  {
   "cell_type": "code",
   "execution_count": 22,
   "metadata": {},
   "outputs": [],
   "source": [
    "jobs['END'] = pd.to_datetime(jobs['END'])\n",
    "jobs['BEGIN'] = pd.to_datetime(jobs['BEGIN'])"
   ]
  },
  {
   "cell_type": "code",
   "execution_count": 23,
   "metadata": {},
   "outputs": [
    {
     "data": {
      "text/plain": [
       "7395234"
      ]
     },
     "execution_count": 23,
     "metadata": {},
     "output_type": "execute_result"
    }
   ],
   "source": [
    "len(jobs)"
   ]
  },
  {
   "cell_type": "code",
   "execution_count": 24,
   "metadata": {},
   "outputs": [
    {
     "data": {
      "text/plain": [
       "3296"
      ]
     },
     "execution_count": 24,
     "metadata": {},
     "output_type": "execute_result"
    }
   ],
   "source": [
    "ce56 = pd.concat([ce5, ce6])\n",
    "ce56['END'] = pd.to_datetime(ce56['END']).dt.floor('s')\n",
    "len(ce56)"
   ]
  },
  {
   "cell_type": "code",
   "execution_count": 25,
   "metadata": {},
   "outputs": [],
   "source": [
    "unresponsive_merge = ce56.merge(jobs, left_on='END', right_on='END', how='left', validate='many_to_many')"
   ]
  },
  {
   "cell_type": "code",
   "execution_count": 31,
   "metadata": {},
   "outputs": [],
   "source": [
    "unresponsive_merge = unresponsive_merge.dropna(subset='JOBID')"
   ]
  },
  {
   "cell_type": "code",
   "execution_count": 32,
   "metadata": {},
   "outputs": [
    {
     "data": {
      "text/plain": [
       "459"
      ]
     },
     "execution_count": 32,
     "metadata": {},
     "output_type": "execute_result"
    }
   ],
   "source": [
    "len(unresponsive_merge)"
   ]
  },
  {
   "cell_type": "code",
   "execution_count": 6,
   "metadata": {},
   "outputs": [],
   "source": [
    "# jobs_ce = jobs.loc[(jobs['END'] >= '2020-10-17') & (jobs['END'] <= '2021-10-07')]\n",
    "# ce56 = pd.concat([ce5, ce6])\n",
    "# jobs_first = jobs_ce.loc[(jobs_ce['END'] >= '2020-10-18 06:16:25') & (jobs_ce['END'] <= '2020-10-18 06:38:44')]\n",
    "# ce56_first = ce56.loc[(ce56['END'] >= '2020-10-18 00:00:00') & (ce56['END'] <= '2020-10-18 23:59:59')]\n"
   ]
  }
 ],
 "metadata": {
  "kernelspec": {
   "display_name": "base",
   "language": "python",
   "name": "python3"
  },
  "language_info": {
   "codemirror_mode": {
    "name": "ipython",
    "version": 3
   },
   "file_extension": ".py",
   "mimetype": "text/x-python",
   "name": "python",
   "nbconvert_exporter": "python",
   "pygments_lexer": "ipython3",
   "version": "3.12.4"
  }
 },
 "nbformat": 4,
 "nbformat_minor": 2
}
