{
 "cells": [
  {
   "cell_type": "code",
   "execution_count": 1,
   "metadata": {},
   "outputs": [],
   "source": [
    "import pandas as pd\n",
    "from datetime import datetime as dt\n",
    "import numpy as np\n",
    "import re"
   ]
  },
  {
   "cell_type": "code",
   "execution_count": 2,
   "metadata": {},
   "outputs": [
    {
     "data": {
      "text/html": [
       "<div>\n",
       "<style scoped>\n",
       "    .dataframe tbody tr th:only-of-type {\n",
       "        vertical-align: middle;\n",
       "    }\n",
       "\n",
       "    .dataframe tbody tr th {\n",
       "        vertical-align: top;\n",
       "    }\n",
       "\n",
       "    .dataframe thead th {\n",
       "        text-align: right;\n",
       "    }\n",
       "</style>\n",
       "<table border=\"1\" class=\"dataframe\">\n",
       "  <thead>\n",
       "    <tr style=\"text-align: right;\">\n",
       "      <th></th>\n",
       "      <th>JOBID</th>\n",
       "      <th>STATE</th>\n",
       "      <th>BEGIN</th>\n",
       "      <th>END</th>\n",
       "      <th>REQMEM</th>\n",
       "      <th>USEDMEM</th>\n",
       "      <th>REQTIME</th>\n",
       "      <th>USEDTIME</th>\n",
       "      <th>NODES</th>\n",
       "      <th>CPUS</th>\n",
       "      <th>PARTITION</th>\n",
       "      <th>EXITCODE</th>\n",
       "    </tr>\n",
       "  </thead>\n",
       "  <tbody>\n",
       "    <tr>\n",
       "      <th>0</th>\n",
       "      <td>30616928</td>\n",
       "      <td>RUNNING</td>\n",
       "      <td>2021-07-31T22:15:00</td>\n",
       "      <td>Unknown</td>\n",
       "      <td>2048Mn</td>\n",
       "      <td>0</td>\n",
       "      <td>10:04:00</td>\n",
       "      <td>67-22:14:22</td>\n",
       "      <td>1</td>\n",
       "      <td>1</td>\n",
       "      <td>production</td>\n",
       "      <td>0:0</td>\n",
       "    </tr>\n",
       "    <tr>\n",
       "      <th>1</th>\n",
       "      <td>30853133</td>\n",
       "      <td>COMPLETED</td>\n",
       "      <td>2021-08-06T11:36:09</td>\n",
       "      <td>2021-09-05T11:36:32</td>\n",
       "      <td>262144Mn</td>\n",
       "      <td>20604.62M</td>\n",
       "      <td>30-00:00:00</td>\n",
       "      <td>30-00:00:23</td>\n",
       "      <td>1</td>\n",
       "      <td>1</td>\n",
       "      <td>cgw-platypus</td>\n",
       "      <td>0:0</td>\n",
       "    </tr>\n",
       "    <tr>\n",
       "      <th>2</th>\n",
       "      <td>30858137</td>\n",
       "      <td>COMPLETED</td>\n",
       "      <td>2021-08-06T19:04:39</td>\n",
       "      <td>2021-09-05T19:04:53</td>\n",
       "      <td>204800Mn</td>\n",
       "      <td>57553.77M</td>\n",
       "      <td>30-00:00:00</td>\n",
       "      <td>30-00:00:14</td>\n",
       "      <td>1</td>\n",
       "      <td>32</td>\n",
       "      <td>cgw-tbi01</td>\n",
       "      <td>0:0</td>\n",
       "    </tr>\n",
       "    <tr>\n",
       "      <th>3</th>\n",
       "      <td>30935078</td>\n",
       "      <td>COMPLETED</td>\n",
       "      <td>2021-08-09T16:52:51</td>\n",
       "      <td>2021-09-07T20:52:55</td>\n",
       "      <td>65536Mn</td>\n",
       "      <td>20577.96M</td>\n",
       "      <td>29-04:00:00</td>\n",
       "      <td>29-04:00:04</td>\n",
       "      <td>1</td>\n",
       "      <td>8</td>\n",
       "      <td>cgw-platypus</td>\n",
       "      <td>0:0</td>\n",
       "    </tr>\n",
       "    <tr>\n",
       "      <th>4</th>\n",
       "      <td>31364111_2</td>\n",
       "      <td>COMPLETED</td>\n",
       "      <td>2021-08-17T07:45:07</td>\n",
       "      <td>2021-09-10T16:45:24</td>\n",
       "      <td>16384Mn</td>\n",
       "      <td>9733.43M</td>\n",
       "      <td>24-09:00:00</td>\n",
       "      <td>24-09:00:17</td>\n",
       "      <td>1</td>\n",
       "      <td>1</td>\n",
       "      <td>production</td>\n",
       "      <td>0:0</td>\n",
       "    </tr>\n",
       "  </tbody>\n",
       "</table>\n",
       "</div>"
      ],
      "text/plain": [
       "        JOBID      STATE                BEGIN                  END    REQMEM  \\\n",
       "0    30616928    RUNNING  2021-07-31T22:15:00              Unknown    2048Mn   \n",
       "1    30853133  COMPLETED  2021-08-06T11:36:09  2021-09-05T11:36:32  262144Mn   \n",
       "2    30858137  COMPLETED  2021-08-06T19:04:39  2021-09-05T19:04:53  204800Mn   \n",
       "3    30935078  COMPLETED  2021-08-09T16:52:51  2021-09-07T20:52:55   65536Mn   \n",
       "4  31364111_2  COMPLETED  2021-08-17T07:45:07  2021-09-10T16:45:24   16384Mn   \n",
       "\n",
       "     USEDMEM      REQTIME     USEDTIME  NODES  CPUS     PARTITION EXITCODE  \n",
       "0          0     10:04:00  67-22:14:22      1     1    production      0:0  \n",
       "1  20604.62M  30-00:00:00  30-00:00:23      1     1  cgw-platypus      0:0  \n",
       "2  57553.77M  30-00:00:00  30-00:00:14      1    32     cgw-tbi01      0:0  \n",
       "3  20577.96M  29-04:00:00  29-04:00:04      1     8  cgw-platypus      0:0  \n",
       "4   9733.43M  24-09:00:00  24-09:00:17      1     1    production      0:0  "
      ]
     },
     "execution_count": 2,
     "metadata": {},
     "output_type": "execute_result"
    }
   ],
   "source": [
    "jobs = pd.read_csv(\"../data/fullsample.csv\", nrows=1000000)\n",
    "jobs.head(5)\n",
    "# ce5_unresponsive = pd.read_csv('../data/ce5_unresponsive.csv')\n",
    "# ce6_unresponsive = pd.read_csv('../data/ce6_unresponsive.csv')"
   ]
  },
  {
   "cell_type": "code",
   "execution_count": 3,
   "metadata": {},
   "outputs": [
    {
     "name": "stdout",
     "output_type": "stream",
     "text": [
      "<class 'pandas.core.frame.DataFrame'>\n",
      "RangeIndex: 1000000 entries, 0 to 999999\n",
      "Data columns (total 12 columns):\n",
      " #   Column     Non-Null Count    Dtype \n",
      "---  ------     --------------    ----- \n",
      " 0   JOBID      1000000 non-null  object\n",
      " 1   STATE      1000000 non-null  object\n",
      " 2   BEGIN      1000000 non-null  object\n",
      " 3   END        1000000 non-null  object\n",
      " 4   REQMEM     1000000 non-null  object\n",
      " 5   USEDMEM    1000000 non-null  object\n",
      " 6   REQTIME    1000000 non-null  object\n",
      " 7   USEDTIME   1000000 non-null  object\n",
      " 8   NODES      1000000 non-null  int64 \n",
      " 9   CPUS       1000000 non-null  int64 \n",
      " 10  PARTITION  1000000 non-null  object\n",
      " 11  EXITCODE   1000000 non-null  object\n",
      "dtypes: int64(2), object(10)\n",
      "memory usage: 91.6+ MB\n"
     ]
    }
   ],
   "source": [
    "jobs.info()"
   ]
  },
  {
   "cell_type": "code",
   "execution_count": 4,
   "metadata": {},
   "outputs": [],
   "source": [
    "jobs = jobs[jobs['END'] != 'Unknown']"
   ]
  },
  {
   "cell_type": "code",
   "execution_count": null,
   "metadata": {},
   "outputs": [],
   "source": [
    "# Fixes jobs BEGIN and END columns to datetime\n",
    "k\n",
    "jobs['BEGIN'] = [dt.strptime(row.replace('T', ' ') + ('.000000' if '.' not in row else ''), '%Y-%m-%d %H:%M:%S.%f') for row in jobs['BEGIN']]"
   ]
  },
  {
   "cell_type": "code",
   "execution_count": 6,
   "metadata": {},
   "outputs": [],
   "source": [
    "# Fixes USEDMEM column to remove the M and convert to a numeric\n",
    "jobs['USEDMEM'] = jobs['USEDMEM'].str[:-1]\n",
    "jobs['USEDMEM'] = pd.to_numeric(jobs['USEDMEM'])"
   ]
  },
  {
   "cell_type": "code",
   "execution_count": 7,
   "metadata": {},
   "outputs": [],
   "source": [
    "# Cleans memory of nodes/CPUs to allow for numeric manipulation\n",
    "jobs.insert(5, 'Mc_Mn', jobs['REQMEM'].str[-2:])\n",
    "jobs['REQMEM']  = jobs['REQMEM'].str[:-2]\n",
    "jobs['REQMEM'] = pd.to_numeric(jobs['REQMEM'])"
   ]
  },
  {
   "cell_type": "code",
   "execution_count": 8,
   "metadata": {},
   "outputs": [],
   "source": [
    "# Creates new column that is the difference between the memory used and memory requested\n",
    "diffmem = jobs['REQMEM'] - jobs['USEDMEM']\n",
    "jobs.insert(7, 'DIFFMEM', diffmem)"
   ]
  },
  {
   "cell_type": "code",
   "execution_count": 9,
   "metadata": {},
   "outputs": [],
   "source": [
    "# New column that turns the completion status into a boolean for logistic regression\n",
    "jobs.insert(2, 'COMPLETE', jobs['STATE'] == 'COMPLETED')\n",
    "jobs['COMPLETE'] = jobs['COMPLETE'].astype(int)"
   ]
  },
  {
   "cell_type": "code",
   "execution_count": 10,
   "metadata": {},
   "outputs": [],
   "source": [
    "incomplete = jobs.loc[jobs['COMPLETE'] != 1].head(5)\n",
    "USEDMEM_pivot = jobs.pivot_table(values='USEDMEM', index=['NODES','EXITCODE', 'STATE'], aggfunc='mean')\n",
    "REQMEM_pivot = jobs.pivot_table(values='REQMEM', index=['Mc_Mn','EXITCODE', 'STATE'], aggfunc='mean')"
   ]
  },
  {
   "cell_type": "markdown",
   "metadata": {},
   "source": [
    "The EXITCODE gives the exit code for the job, with \"0:0\" indicating a successful job. Exit codes have two numbers, where if the first number is non-zero, it indicates a problem on the server side and if the second is nonzero, it indicates a problem on the user side."
   ]
  },
  {
   "cell_type": "code",
   "execution_count": 11,
   "metadata": {},
   "outputs": [
    {
     "data": {
      "text/plain": [
       "JOBID\n",
       "30284664        56500.83\n",
       "30387199            0.06\n",
       "30503582_484    25031.82\n",
       "30503586_868    13656.57\n",
       "30504814_323    12643.80\n",
       "                  ...   \n",
       "32923970          343.00\n",
       "32923977            0.09\n",
       "32923987            0.09\n",
       "32923988            0.09\n",
       "32923989          393.07\n",
       "Name: USEDMEM, Length: 999349, dtype: float64"
      ]
     },
     "execution_count": 11,
     "metadata": {},
     "output_type": "execute_result"
    }
   ],
   "source": [
    "diff_mem_group = jobs.groupby(['STATE', 'PARTITION', 'EXITCODE'])['DIFFMEM'].describe()\n",
    "# jobs['MONTH'] = jobs['END'].dt.month\n",
    "jobs.groupby('JOBID')['USEDMEM'].mean()"
   ]
  },
  {
   "cell_type": "code",
   "execution_count": 12,
   "metadata": {},
   "outputs": [
    {
     "data": {
      "text/html": [
       "<div>\n",
       "<style scoped>\n",
       "    .dataframe tbody tr th:only-of-type {\n",
       "        vertical-align: middle;\n",
       "    }\n",
       "\n",
       "    .dataframe tbody tr th {\n",
       "        vertical-align: top;\n",
       "    }\n",
       "\n",
       "    .dataframe thead th {\n",
       "        text-align: right;\n",
       "    }\n",
       "</style>\n",
       "<table border=\"1\" class=\"dataframe\">\n",
       "  <thead>\n",
       "    <tr style=\"text-align: right;\">\n",
       "      <th></th>\n",
       "      <th>JOBID</th>\n",
       "      <th>STATE</th>\n",
       "      <th>COMPLETE</th>\n",
       "      <th>BEGIN</th>\n",
       "      <th>END</th>\n",
       "      <th>REQMEM</th>\n",
       "      <th>Mc_Mn</th>\n",
       "      <th>USEDMEM</th>\n",
       "      <th>DIFFMEM</th>\n",
       "      <th>REQTIME</th>\n",
       "      <th>USEDTIME</th>\n",
       "      <th>NODES</th>\n",
       "      <th>CPUS</th>\n",
       "      <th>PARTITION</th>\n",
       "      <th>EXITCODE</th>\n",
       "    </tr>\n",
       "  </thead>\n",
       "  <tbody>\n",
       "    <tr>\n",
       "      <th>1</th>\n",
       "      <td>30853133</td>\n",
       "      <td>COMPLETED</td>\n",
       "      <td>1</td>\n",
       "      <td>2021-08-06 11:36:09</td>\n",
       "      <td>2021-09-05 11:36:32</td>\n",
       "      <td>262144</td>\n",
       "      <td>Mn</td>\n",
       "      <td>20604.62</td>\n",
       "      <td>241539.38</td>\n",
       "      <td>30-00:00:00</td>\n",
       "      <td>30-00:00:23</td>\n",
       "      <td>1</td>\n",
       "      <td>1</td>\n",
       "      <td>cgw-platypus</td>\n",
       "      <td>0:0</td>\n",
       "    </tr>\n",
       "  </tbody>\n",
       "</table>\n",
       "</div>"
      ],
      "text/plain": [
       "      JOBID      STATE  COMPLETE               BEGIN                 END  \\\n",
       "1  30853133  COMPLETED         1 2021-08-06 11:36:09 2021-09-05 11:36:32   \n",
       "\n",
       "   REQMEM Mc_Mn   USEDMEM    DIFFMEM      REQTIME     USEDTIME  NODES  CPUS  \\\n",
       "1  262144    Mn  20604.62  241539.38  30-00:00:00  30-00:00:23      1     1   \n",
       "\n",
       "      PARTITION EXITCODE  \n",
       "1  cgw-platypus      0:0  "
      ]
     },
     "execution_count": 12,
     "metadata": {},
     "output_type": "execute_result"
    }
   ],
   "source": [
    "jobs[jobs['JOBID'].str.contains('30853133')]"
   ]
  }
 ],
 "metadata": {
  "kernelspec": {
   "display_name": "base",
   "language": "python",
   "name": "python3"
  },
  "language_info": {
   "codemirror_mode": {
    "name": "ipython",
    "version": 3
   },
   "file_extension": ".py",
   "mimetype": "text/x-python",
   "name": "python",
   "nbconvert_exporter": "python",
   "pygments_lexer": "ipython3",
   "version": "3.12.4"
  }
 },
 "nbformat": 4,
 "nbformat_minor": 2
}
